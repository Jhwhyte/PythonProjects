{
 "cells": [
  {
   "cell_type": "markdown",
   "metadata": {},
   "source": [
    "# Geometric project\n",
    "#### Purpose: Creating basic geometric classes, functions, and objects\n",
    "#### By: James Whyte\n"
   ]
  },
  {
   "cell_type": "code",
   "execution_count": 2,
   "metadata": {},
   "outputs": [],
   "source": [
    "import math\n",
    "\n",
    "class Point:\n",
    "    \"\"\" The point class represents a point in 2D space \"\"\"\n",
    "\n",
    "    # initailization method for the Point object to set default values for the data attributes\n",
    "    def __init__(self, x: float = 0.0, y: float = 0.0) -> None:\n",
    "        \"\"\" Initializes the point object to default values x = 0.0 and y = 0.0 \"\"\"\n",
    "        self.x = x # initialize to 0\n",
    "        self.y = y # initialize to 0\n",
    "    \n",
    "\n",
    "    def moveIt(self, dx: float, dy: float) -> None:   # Moves the Point by and added delta 'x' and delta 'y' value determined by the user\n",
    "        \"\"\" Moves the Point object by the additional deltaX and deltaY specified by the user \"\"\"\n",
    "        self.x = self.x + dx #at this time the Point object will have 'x' data attribute at some location already so we can move it\n",
    "        self.y = self.y + dy #at this time the Point object will have 'y' data attribute at some location already so we can move it\n",
    "\n",
    "\n",
    "    # function determines the euclidean distance between original point and other point in 2D space\n",
    "    def distance(self, otherPoint: float) -> float: # gurantees that other is a Point object\n",
    "        \"\"\" Returns the euclidean distance between the original point and the point passed in by the user \"\"\"\n",
    "        if isinstance(otherPoint, Point): # checking if point1 and point2 are Point objects\n",
    "            x1 = self.x\n",
    "            y1 = self.y\n",
    "            x2 = otherPoint.x\n",
    "            y2 = otherPoint.y\n",
    "            return float( ( (x1 - x2)**2 + (y1 - y2)**2 )**0.5 ) # return the euclidean distance\n",
    "\n",
    "\n",
    "class Rectangle:\n",
    "    \"\"\" The rectangle class represents a rectangle in 2D space \"\"\"\n",
    "    def __init__(self, topLeft: float = Point(0,0), bottomRight: float = Point(1,1)) -> None:\n",
    "        \"\"\" Initializes the rectangle object to the default values topLeft = Point(0,0) and bottomRight = Point(1,1) \"\"\"\n",
    "        self.topLeft = topLeft\n",
    "        self.bottomRight = bottomRight\n",
    "        self.height = topLeft.y - bottomRight.y\n",
    "        self.width = bottomRight.x - topLeft.x\n",
    "\n",
    "    def get_Perimeter(self) -> float:\n",
    "        \"\"\" Returns the perimeter of the Rectangle object \"\"\"\n",
    "        self.perimeter = (self.height + self.width) * 2\n",
    "        return float(self.perimeter)\n",
    "\n",
    "    def get_Area(self) -> float:\n",
    "        \"\"\" Returns the area of the rectangle object \"\"\"\n",
    "        self.area = self.height * self.width\n",
    "        return float(self.area)\n",
    "\n",
    "\n",
    "class Triangle:\n",
    "    \"\"\" The triangle class represents a triangle in 2D space \"\"\"\n",
    "    def __init__( self, point1: float = Point(0,0), point2: float = Point(1,1), point3: float = Point(0,1) ) -> None: \n",
    "        \"\"\"\" Initializes the triangle object to the default values p1=0,0 p2=1,1 p3=0,1 unless otherwise specified by the use \"\"\"\n",
    "        self.point1 = point1\n",
    "        self.point2 = point2\n",
    "        self.point3 = point3\n",
    "        \n",
    "    def get_Area(self) -> float:\n",
    "        \"\"\" Returns the area of the triangle object \"\"\"\n",
    "        self.area = abs( self.point1.x*(self.point2.y - self.point3.y) + self.point2.x*(self.point3.y - self.point1.y) + self.point3.x*(self.point1.y - self.point2.y)) / 2\n",
    "        return float(self.area)\n",
    "    def get_Perimeter(self) -> float:\n",
    "        \"\"\" Returns the perimeter of the triangle object \"\"\"\n",
    "        self.perimeter = self.point1.distance(self.point2) + self.point2.distance(self.point3) + self.point3.distance(self.point1)\n",
    "        return float(self.perimeter)\n",
    "\n",
    "\n",
    "class Circle:\n",
    "    \"\"\" The circle class represents a circle in 2D space \"\"\"\n",
    "    def __init__( self, center: float = Point(0,0), radius: float = 1 ) -> None:\n",
    "        \"\"\" Initializes the circle object to default values center = 0,0 and radius = 1 unelss otherwise specified by the user \"\"\"\n",
    "        self.center = center\n",
    "        self.radius = radius\n",
    "    def get_Area(self) -> float:\n",
    "        \"\"\" Returns the area of the circle object \"\"\"\n",
    "        return float(self.radius**2*3.14) # gurantees a flaot value\n",
    "    def get_Perimeter(self) -> float:\n",
    "        \"\"\" Returns the perimeter of the circle object \"\"\"\n",
    "        return float(2*self.radius*3.14) # gurantees a float value"
   ]
  },
  {
   "cell_type": "code",
   "execution_count": 3,
   "metadata": {},
   "outputs": [],
   "source": [
    "p1 = Point(0,0)"
   ]
  },
  {
   "cell_type": "code",
   "execution_count": 4,
   "metadata": {},
   "outputs": [],
   "source": [
    "p1.moveIt(0,2)"
   ]
  },
  {
   "cell_type": "code",
   "execution_count": 5,
   "metadata": {},
   "outputs": [],
   "source": [
    "p2 = Point(5,5)"
   ]
  },
  {
   "cell_type": "code",
   "execution_count": 9,
   "metadata": {},
   "outputs": [
    {
     "name": "stdout",
     "output_type": "stream",
     "text": [
      "The distance between the first point and second point is: 5.830951894845301\n"
     ]
    }
   ],
   "source": [
    "print(\"The distance between the first point and second point is:\",p1.distance(p2))"
   ]
  },
  {
   "cell_type": "code",
   "execution_count": 10,
   "metadata": {},
   "outputs": [],
   "source": [
    "p3 = Point(3,8)"
   ]
  },
  {
   "cell_type": "code",
   "execution_count": 11,
   "metadata": {},
   "outputs": [],
   "source": [
    "p4 = Point(5,4)"
   ]
  },
  {
   "cell_type": "code",
   "execution_count": 12,
   "metadata": {},
   "outputs": [],
   "source": [
    "r1 = Rectangle(p3,p4)"
   ]
  },
  {
   "cell_type": "code",
   "execution_count": 17,
   "metadata": {},
   "outputs": [
    {
     "name": "stdout",
     "output_type": "stream",
     "text": [
      "The area of the rectangle composed of p3 and p4 is: 8.0\n"
     ]
    }
   ],
   "source": [
    "print(\"The area of the rectangle composed of p3 and p4 is:\",r1.get_Area())"
   ]
  },
  {
   "cell_type": "code",
   "execution_count": 19,
   "metadata": {},
   "outputs": [
    {
     "name": "stdout",
     "output_type": "stream",
     "text": [
      "The perimeter of the rectangle composed of p3 and p4 is: 12.0\n"
     ]
    }
   ],
   "source": [
    "print(\"The perimeter of the rectangle composed of p3 and p4 is:\",r1.get_Perimeter())"
   ]
  },
  {
   "cell_type": "code",
   "execution_count": 20,
   "metadata": {},
   "outputs": [],
   "source": [
    "p5 = Point(0,0)"
   ]
  },
  {
   "cell_type": "code",
   "execution_count": 21,
   "metadata": {},
   "outputs": [],
   "source": [
    "p6 = Point(1,1)"
   ]
  },
  {
   "cell_type": "code",
   "execution_count": 22,
   "metadata": {},
   "outputs": [],
   "source": [
    "p7 = Point(0,1)"
   ]
  },
  {
   "cell_type": "code",
   "execution_count": 23,
   "metadata": {},
   "outputs": [],
   "source": [
    "t1 = Triangle(p5,p6,p7)"
   ]
  },
  {
   "cell_type": "code",
   "execution_count": 24,
   "metadata": {},
   "outputs": [
    {
     "name": "stdout",
     "output_type": "stream",
     "text": [
      "The area of the triangle composed of p5, p6, and p7 is: 0.5\n"
     ]
    }
   ],
   "source": [
    "print(\"The area of the triangle composed of p5, p6, and p7 is:\",t1.get_Area())"
   ]
  },
  {
   "cell_type": "code",
   "execution_count": 25,
   "metadata": {},
   "outputs": [
    {
     "name": "stdout",
     "output_type": "stream",
     "text": [
      "The perimeter of the triangle composed of p5, p6, and p7 is: 3.414213562373095\n"
     ]
    }
   ],
   "source": [
    "print(\"The perimeter of the triangle composed of p5, p6, and p7 is:\",t1.get_Perimeter())"
   ]
  },
  {
   "cell_type": "code",
   "execution_count": 26,
   "metadata": {},
   "outputs": [],
   "source": [
    "p8 = Point(0,0)"
   ]
  },
  {
   "cell_type": "code",
   "execution_count": 29,
   "metadata": {},
   "outputs": [],
   "source": [
    "r = 5"
   ]
  },
  {
   "cell_type": "code",
   "execution_count": 30,
   "metadata": {},
   "outputs": [],
   "source": [
    "c1 = Circle(p8,r)"
   ]
  },
  {
   "cell_type": "code",
   "execution_count": 31,
   "metadata": {},
   "outputs": [
    {
     "name": "stdout",
     "output_type": "stream",
     "text": [
      "The area of the circle is: 78.5\n"
     ]
    }
   ],
   "source": [
    "print(\"The area of the circle is:\",c1.get_Area())"
   ]
  },
  {
   "cell_type": "code",
   "execution_count": 32,
   "metadata": {},
   "outputs": [
    {
     "name": "stdout",
     "output_type": "stream",
     "text": [
      "The perimeter of the circle is: 31.400000000000002\n"
     ]
    }
   ],
   "source": [
    "print(\"The perimeter of the circle is:\",c1.get_Perimeter())"
   ]
  },
  {
   "cell_type": "code",
   "execution_count": null,
   "metadata": {},
   "outputs": [],
   "source": []
  }
 ],
 "metadata": {
  "kernelspec": {
   "display_name": "Python 3",
   "language": "python",
   "name": "python3"
  },
  "language_info": {
   "codemirror_mode": {
    "name": "ipython",
    "version": 3
   },
   "file_extension": ".py",
   "mimetype": "text/x-python",
   "name": "python",
   "nbconvert_exporter": "python",
   "pygments_lexer": "ipython3",
   "version": "3.6.5"
  }
 },
 "nbformat": 4,
 "nbformat_minor": 2
}
