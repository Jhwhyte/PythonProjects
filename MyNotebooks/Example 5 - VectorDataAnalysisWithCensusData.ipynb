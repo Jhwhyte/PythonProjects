{
 "cells": [
  {
   "cell_type": "markdown",
   "metadata": {},
   "source": [
    "# CODE EXAMPLE 7\n",
    "\n",
    "#### purpose: Download Census data \"states_48 dataset (shapefile)\" (vector). Isolating a state. Creating a new shapefile for that shape, saving it, displaying it. Reprojecting that state shapefile to a UTM projection suitable for that state. Displaying the reprojected state layer and save to a new shapefile.\n",
    "\n",
    "#### By: James Whyte\n"
   ]
  },
  {
   "cell_type": "code",
   "execution_count": 1,
   "metadata": {},
   "outputs": [
    {
     "data": {
      "text/html": [
       "<div>\n",
       "<style scoped>\n",
       "    .dataframe tbody tr th:only-of-type {\n",
       "        vertical-align: middle;\n",
       "    }\n",
       "\n",
       "    .dataframe tbody tr th {\n",
       "        vertical-align: top;\n",
       "    }\n",
       "\n",
       "    .dataframe thead th {\n",
       "        text-align: right;\n",
       "    }\n",
       "</style>\n",
       "<table border=\"1\" class=\"dataframe\">\n",
       "  <thead>\n",
       "    <tr style=\"text-align: right;\">\n",
       "      <th></th>\n",
       "      <th>AREA</th>\n",
       "      <th>PERIMETER</th>\n",
       "      <th>STATESP010</th>\n",
       "      <th>STATE</th>\n",
       "      <th>STATE_FIPS</th>\n",
       "      <th>ORDER_ADM</th>\n",
       "      <th>MONTH_ADM</th>\n",
       "      <th>DAY_ADM</th>\n",
       "      <th>YEAR_ADM</th>\n",
       "      <th>geometry</th>\n",
       "    </tr>\n",
       "  </thead>\n",
       "  <tbody>\n",
       "    <tr>\n",
       "      <th>0</th>\n",
       "      <td>12.879</td>\n",
       "      <td>21.642</td>\n",
       "      <td>1.0</td>\n",
       "      <td>Alabama</td>\n",
       "      <td>01</td>\n",
       "      <td>22.0</td>\n",
       "      <td>December</td>\n",
       "      <td>14.0</td>\n",
       "      <td>1819.0</td>\n",
       "      <td>(POLYGON ((-88.08472353499985 30.2132621780000...</td>\n",
       "    </tr>\n",
       "    <tr>\n",
       "      <th>1</th>\n",
       "      <td>13.586</td>\n",
       "      <td>21.737</td>\n",
       "      <td>5.0</td>\n",
       "      <td>Arkansas</td>\n",
       "      <td>05</td>\n",
       "      <td>25.0</td>\n",
       "      <td>June</td>\n",
       "      <td>15.0</td>\n",
       "      <td>1836.0</td>\n",
       "      <td>POLYGON ((-94.29158997399986 36.49929244500009...</td>\n",
       "    </tr>\n",
       "    <tr>\n",
       "      <th>2</th>\n",
       "      <td>28.919</td>\n",
       "      <td>23.890</td>\n",
       "      <td>4.0</td>\n",
       "      <td>Arizona</td>\n",
       "      <td>04</td>\n",
       "      <td>48.0</td>\n",
       "      <td>February</td>\n",
       "      <td>14.0</td>\n",
       "      <td>1912.0</td>\n",
       "      <td>POLYGON ((-110.4938100619999 37.00376728200013...</td>\n",
       "    </tr>\n",
       "    <tr>\n",
       "      <th>3</th>\n",
       "      <td>41.613</td>\n",
       "      <td>55.323</td>\n",
       "      <td>6.0</td>\n",
       "      <td>California</td>\n",
       "      <td>06</td>\n",
       "      <td>31.0</td>\n",
       "      <td>September</td>\n",
       "      <td>9.0</td>\n",
       "      <td>1850.0</td>\n",
       "      <td>(POLYGON ((-117.1045679089999 32.6128695810001...</td>\n",
       "    </tr>\n",
       "    <tr>\n",
       "      <th>4</th>\n",
       "      <td>28.039</td>\n",
       "      <td>22.017</td>\n",
       "      <td>8.0</td>\n",
       "      <td>Colorado</td>\n",
       "      <td>08</td>\n",
       "      <td>38.0</td>\n",
       "      <td>August</td>\n",
       "      <td>1.0</td>\n",
       "      <td>1876.0</td>\n",
       "      <td>POLYGON ((-106.3755715069999 41.00071447800002...</td>\n",
       "    </tr>\n",
       "  </tbody>\n",
       "</table>\n",
       "</div>"
      ],
      "text/plain": [
       "     AREA  PERIMETER  STATESP010       STATE STATE_FIPS  ORDER_ADM  MONTH_ADM  \\\n",
       "0  12.879     21.642         1.0     Alabama         01       22.0   December   \n",
       "1  13.586     21.737         5.0    Arkansas         05       25.0       June   \n",
       "2  28.919     23.890         4.0     Arizona         04       48.0   February   \n",
       "3  41.613     55.323         6.0  California         06       31.0  September   \n",
       "4  28.039     22.017         8.0    Colorado         08       38.0     August   \n",
       "\n",
       "   DAY_ADM  YEAR_ADM                                           geometry  \n",
       "0     14.0    1819.0  (POLYGON ((-88.08472353499985 30.2132621780000...  \n",
       "1     15.0    1836.0  POLYGON ((-94.29158997399986 36.49929244500009...  \n",
       "2     14.0    1912.0  POLYGON ((-110.4938100619999 37.00376728200013...  \n",
       "3      9.0    1850.0  (POLYGON ((-117.1045679089999 32.6128695810001...  \n",
       "4      1.0    1876.0  POLYGON ((-106.3755715069999 41.00071447800002...  "
      ]
     },
     "execution_count": 1,
     "metadata": {},
     "output_type": "execute_result"
    }
   ],
   "source": [
    "# Import necessary modules\n",
    "import geopandas as gpd\n",
    "\n",
    "# Setting filepath to grab the shapefile of states_48.shp\n",
    "fp = r\"C:\\Users\\new\\Desktop\\states_48.shp\"\n",
    "\n",
    "# Read file using gpd.read_file()\n",
    "data = gpd.read_file(fp)\n",
    "# Calling heat on the data to see the attribute table in order to figure out what to query\n",
    "data.head()"
   ]
  },
  {
   "cell_type": "code",
   "execution_count": 3,
   "metadata": {
    "scrolled": true
   },
   "outputs": [
    {
     "data": {
      "text/plain": [
       "<matplotlib.axes._subplots.AxesSubplot at 0x16c93fd06a0>"
      ]
     },
     "execution_count": 3,
     "metadata": {},
     "output_type": "execute_result"
    },
    {
     "data": {
      "image/png": "[encoded data removed]",
      "text/plain": [
       "<Figure size 432x288 with 1 Axes>"
      ]
     },
     "metadata": {},
     "output_type": "display_data"
    }
   ],
   "source": [
    "# plotting the shapefile to see what it looks like\n",
    "data.plot()"
   ]
  },
  {
   "cell_type": "code",
   "execution_count": 4,
   "metadata": {},
   "outputs": [
    {
     "data": {
      "text/plain": [
       "{'init': 'epsg:4269'}"
      ]
     },
     "execution_count": 4,
     "metadata": {},
     "output_type": "execute_result"
    }
   ],
   "source": [
    "# checking it's coordinate reference system\n",
    "data.crs"
   ]
  },
  {
   "cell_type": "code",
   "execution_count": 5,
   "metadata": {
    "scrolled": false
   },
   "outputs": [
    {
     "data": {
      "image/png": "[encoded data removed]",
      "text/plain": [
       "<Figure size 432x288 with 1 Axes>"
      ]
     },
     "metadata": {},
     "output_type": "display_data"
    }
   ],
   "source": [
    "# creating a path to store my new state shapefile\n",
    "out_path = r\"C:\\Users\\new\\Desktop\\California_state.shp\"\n",
    "\n",
    "# selecting the state California by using GeoPandas query statement\n",
    "selection = data[data['STATE'] == 'California']\n",
    "\n",
    "# displaying the state query\n",
    "selection.plot()\n",
    "\n",
    "# Saving the state query\n",
    "selection.to_file(driver = 'ESRI Shapefile', filename = out_path)"
   ]
  },
  {
   "cell_type": "code",
   "execution_count": 6,
   "metadata": {},
   "outputs": [
    {
     "data": {
      "text/html": [
       "<div>\n",
       "<style scoped>\n",
       "    .dataframe tbody tr th:only-of-type {\n",
       "        vertical-align: middle;\n",
       "    }\n",
       "\n",
       "    .dataframe tbody tr th {\n",
       "        vertical-align: top;\n",
       "    }\n",
       "\n",
       "    .dataframe thead th {\n",
       "        text-align: right;\n",
       "    }\n",
       "</style>\n",
       "<table border=\"1\" class=\"dataframe\">\n",
       "  <thead>\n",
       "    <tr style=\"text-align: right;\">\n",
       "      <th></th>\n",
       "      <th>AREA</th>\n",
       "      <th>PERIMETER</th>\n",
       "      <th>STATESP010</th>\n",
       "      <th>STATE</th>\n",
       "      <th>STATE_FIPS</th>\n",
       "      <th>ORDER_ADM</th>\n",
       "      <th>MONTH_ADM</th>\n",
       "      <th>DAY_ADM</th>\n",
       "      <th>YEAR_ADM</th>\n",
       "      <th>geometry</th>\n",
       "    </tr>\n",
       "  </thead>\n",
       "  <tbody>\n",
       "    <tr>\n",
       "      <th>0</th>\n",
       "      <td>41.613</td>\n",
       "      <td>55.323</td>\n",
       "      <td>6.0</td>\n",
       "      <td>California</td>\n",
       "      <td>06</td>\n",
       "      <td>31.0</td>\n",
       "      <td>September</td>\n",
       "      <td>9.0</td>\n",
       "      <td>1850.0</td>\n",
       "      <td>(POLYGON ((-117.1045679089999 32.6128695810001...</td>\n",
       "    </tr>\n",
       "  </tbody>\n",
       "</table>\n",
       "</div>"
      ],
      "text/plain": [
       "     AREA  PERIMETER  STATESP010       STATE STATE_FIPS  ORDER_ADM  MONTH_ADM  \\\n",
       "0  41.613     55.323         6.0  California         06       31.0  September   \n",
       "\n",
       "   DAY_ADM  YEAR_ADM                                           geometry  \n",
       "0      9.0    1850.0  (POLYGON ((-117.1045679089999 32.6128695810001...  "
      ]
     },
     "execution_count": 6,
     "metadata": {},
     "output_type": "execute_result"
    }
   ],
   "source": [
    "# Now grabbing that shapefile I just made\n",
    "fp2 =  \"selection_state.shp\"\n",
    "\n",
    "# Turning that shapefile into a GeoDataFrame object\n",
    "data2 = gpd.read_file(fp2)\n",
    "# Calling head() on that now GeoDataFram object to check its attribute table\n",
    "data2.head()"
   ]
  },
  {
   "cell_type": "code",
   "execution_count": 7,
   "metadata": {},
   "outputs": [
    {
     "data": {
      "text/plain": [
       "{'init': 'epsg:4269'}"
      ]
     },
     "execution_count": 7,
     "metadata": {},
     "output_type": "execute_result"
    }
   ],
   "source": [
    "# Checking the coordinate refernce system of the shapefile I made. It is in epsg:4369\n",
    "data2.crs"
   ]
  },
  {
   "cell_type": "code",
   "execution_count": 8,
   "metadata": {},
   "outputs": [],
   "source": [
    "# creating a new path to store my state query shapefile reprojected\n",
    "reproj_out_path = r\"C:\\Users\\new\\Desktop\\California_state_reprojected.shp\"\n",
    "\n",
    "# selecting the state California by using GeoPandas query statement\n",
    "cali = data[data['STATE'] == 'California']"
   ]
  },
  {
   "cell_type": "code",
   "execution_count": 9,
   "metadata": {},
   "outputs": [
    {
     "data": {
      "text/plain": [
       "{'init': 'epsg:4269'}"
      ]
     },
     "execution_count": 9,
     "metadata": {},
     "output_type": "execute_result"
    }
   ],
   "source": [
    "# checking its current projection\n",
    "cali.crs"
   ]
  },
  {
   "cell_type": "code",
   "execution_count": 10,
   "metadata": {},
   "outputs": [],
   "source": [
    "# reprojecting california into UTM-10 (epsg:3395)\n",
    "cali = cali.to_crs({'init': 'epsg:3395'})"
   ]
  },
  {
   "cell_type": "code",
   "execution_count": 11,
   "metadata": {},
   "outputs": [
    {
     "data": {
      "text/plain": [
       "{'init': 'epsg:3395'}"
      ]
     },
     "execution_count": 11,
     "metadata": {},
     "output_type": "execute_result"
    }
   ],
   "source": [
    "# check to see that the crs has been changed to epsg:3395\n",
    "cali.crs"
   ]
  },
  {
   "cell_type": "code",
   "execution_count": 12,
   "metadata": {},
   "outputs": [
    {
     "data": {
      "text/plain": [
       "<matplotlib.axes._subplots.AxesSubplot at 0x16c94013dd8>"
      ]
     },
     "execution_count": 12,
     "metadata": {},
     "output_type": "execute_result"
    },
    {
     "data": {
      "image/png": "[encoded data removed]",
      "text/plain": [
       "<Figure size 432x288 with 1 Axes>"
      ]
     },
     "metadata": {},
     "output_type": "display_data"
    }
   ],
   "source": [
    "# displaying the reprojected state layer\n",
    "cali.plot()"
   ]
  },
  {
   "cell_type": "code",
   "execution_count": 13,
   "metadata": {},
   "outputs": [],
   "source": [
    "# Saving the new shapefile\n",
    "cali.to_file(driver = 'ESRI Shapefile', filename = reproj_out_path)\n",
    "\n",
    "out_meta.update({\"driver\": \"GTiff\",\n",
    "                \"height\": out_image.shape[1],\n",
    "                \"width\": out_image.shape[2],\n",
    "                \"transform\": out_transform})\n",
    "nlcd_l2(out_image <--your copy!)"
   ]
  }
 ],
 "metadata": {
  "kernelspec": {
   "display_name": "Python 3",
   "language": "python",
   "name": "python3"
  },
  "language_info": {
   "codemirror_mode": {
    "name": "ipython",
    "version": 3
   },
   "file_extension": ".py",
   "mimetype": "text/x-python",
   "name": "python",
   "nbconvert_exporter": "python",
   "pygments_lexer": "ipython3",
   "version": "3.6.5"
  }
 },
 "nbformat": 4,
 "nbformat_minor": 2
}
