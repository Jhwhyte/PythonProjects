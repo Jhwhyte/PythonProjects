{
 "cells": [
  {
   "cell_type": "markdown",
   "metadata": {},
   "source": [
    "# CODE EXAMPLE 4\n",
    "#### By: James Whyte\n",
    "\n",
    "#### Purpose: Using inheritance for Geographic Information Science. I create a grandfather class called GisData. Then I create to sub-classes which inherits the state and behavior from GisData. These classes are called RasterData and VectorData. Associated with RasterData are four classes which inherit from it. Similarly, there are four classes associated with the VectorData class. This process uses multiple-inheritance.\n",
    "\n"
   ]
  },
  {
   "cell_type": "code",
   "execution_count": 33,
   "metadata": {},
   "outputs": [],
   "source": [
    "class GisData:\n",
    "    \"\"\" A super class called GisData that two other subclasses will inherit state and behavior from. \"\"\"\n",
    "    Projection_info = None\n",
    "    Geog_extent = None\n",
    "    filename = None\n",
    "    \n",
    "    def __init__(self)-> None:\n",
    "        \"\"\" Initializes the object for the super class GisData. Prints the attributes of the GisData object. \"\"\"\n",
    "        print(\"In __init__ of class GisData\")\n",
    "        print(\"Attribute Projection_info initiated\")\n",
    "        print(\"Attribute Geog_extent initiated\")\n",
    "        print(\"Attribute filename initiated\")\n",
    "       \n",
    "    def reportProjection(self)-> None:\n",
    "        \"\"\" Prints and returns the projection_info attribute of the GisData object. \"\"\"\n",
    "        print(\"projection reported for file {0}\".format(self.__class__.__name__))\n",
    "        return self.Projection_info\n",
    "\n",
    "    def reportExtent(self) -> None:\n",
    "        \"\"\" Prints and returns the reportExtent attribute of the GisData object. \"\"\"\n",
    "        print(\"Geographic extent for file {0}\".format(self.__class__.__name__))\n",
    "        return self.Geog_extent\n",
    "        \n",
    "        \n",
    "    def read(self)-> None:\n",
    "        \"\"\" Prints the string 'Read in GisData class' for the GisData object. \"\"\"\n",
    "        print(\"Read in GisData class\")\n",
    "        \n",
    "    \n",
    "    \n",
    "    def write(self):\n",
    "        \"\"\" Prints the string 'Write in GisData class' for the GisData object. \"\"\"\n",
    "        print(\"Write in GisData class\")\n",
    "        \n",
    "   \n",
    "\n",
    "\n",
    "class RasterData(GisData):\n",
    "    \"\"\" A sub class of GisData and a super class for all the RasterData file formates which they will inherit attributes and methods from. \"\"\"\n",
    "    Num_rows = 0\n",
    "    Num_cols = 0\n",
    "    Num_layers = 0\n",
    "    Raster_Format = 'BSQ'\n",
    "    data_layers = None\n",
    "    \n",
    "    def __init__(self)-> None:\n",
    "        \"\"\" Initialization method for RasterData class. Prints the class attributesand tells the user what class her/she is in. \"\"\"\n",
    "        print(\"In __init__ of RasterData class\")\n",
    "        print(\"Attribute Num_rows initiated\")\n",
    "        print(\"Attribute Num_cols initiated\")\n",
    "        print(\"Attribute Num_lauers initiated\")\n",
    "        print(\"Attribute Raster_Format initiated\")\n",
    "        print(\"Attribute data_layers initiated\")\n",
    "    \n",
    "    def BandMath(self,i,j)-> None:\n",
    "        \"\"\" Method does band math for RasterData super object and its file formate sub-classes. Takes in two int arguments. \"\"\"\n",
    "        print(\"Do band math for file {0} between {1} and {2}\".format(self.__class__.__name__, i, j))\n",
    "        \n",
    "       \n",
    "class VectorData(GisData):\n",
    "    \"\"\" A sub class of GisData and a super class for VectorData file formats which they will inherit attributes and methods from \"\"\"\n",
    "    \n",
    "    Num_layers = 0\n",
    "    Layers = None\n",
    "    Geometry = None\n",
    "    \n",
    "    def __init__(self)-> None:\n",
    "        \"\"\" Initialization method for the VectorData object. Prints out all the attributes in the VectorData class. \"\"\"\n",
    "        print(\"In __init__ of VectorData class\")\n",
    "        print(\"Attribute Num_layers initiated\")\n",
    "        print(\"Attribute Layers initiated\")\n",
    "        print(\"Attribute Geometry initiated\")\n",
    "        \n",
    "    def Buffer(self, layer, width)-> None:\n",
    "        \"\"\" Buffers the VectorData object and its subclasses. Takes in two arguments, layer and width. \"\"\"\n",
    "        print(\"create a buffer of {0} for {1} layer in file {2}\".format(width,layer, self.filename))\n",
    "    \n",
    "    def Rasterization(self, layer)-> None:\n",
    "        \"\"\" Rasterzation method for the VectorData object and it's sub-objects. Takes in one argyment, layer. \"\"\"\n",
    "        print(\"Create a raster file for {0} layer in file {1}\".format(layer, self.filename))\n",
    "\n",
    "\n",
    "    \n",
    "   \n",
    "class TiffFile(RasterData):\n",
    "    \"\"\" A subclass of rasterData. With multiple inheritance this class also has access to GisData attributes and functions. \"\"\"\n",
    "    filename = None\n",
    "    def __init__(self, f_name)-> None:\n",
    "        \"\"\" Initialization method for TiffFile. Initializes filename and prints the class of the object and the attribute. \"\"\"\n",
    "        self.filename = f_name\n",
    "        print(\"In __init__ of class {0}\".format(self.__class__.__name__))\n",
    "        print(\"Attribute filename initiated\")\n",
    "        \n",
    "    def read(self)-> None:\n",
    "        \"\"\" A read method of the TiffFile class, prints out 'Read data to file xxx\" to the file the user enetered. \"\"\"\n",
    "        print(\"Read data to file {0}\".format(self.filename))\n",
    "        print(\"Populate attribute {0}\".format(self.filename))\n",
    "    def write(self)-> None:\n",
    "        \"\"\" A write method of the TiffFile class, prints out 'Write data to file xxx\" to the file the user entered. \"\"\"\n",
    "        print(\"Write data to file {0}\".format(self.filename))\n",
    "        \n",
    "class JP2File(RasterData):\n",
    "    \"\"\" A subclass of rasterData. With multiple inheritance this class also has access to GisData attributes and functions. \"\"\"\n",
    "    filename = None\n",
    "    def __init__(self, f_name)-> None:\n",
    "        \"\"\" Initialization method for JP2File. Initializes filename and prints the class of the object and the attribute. \"\"\"\n",
    "        self.filename = f_name\n",
    "        print(\"In __init__ of class {0}\".format(self.__class__.__name__))\n",
    "        print(\"Attribute filename initiated\")\n",
    "        \n",
    "    def read(self)-> None:\n",
    "        \"\"\" A read method of the JP2File class, prints out 'Read data to file xxx\" to the file the user enetered. \"\"\"\n",
    "        print(\"Read data to file {0}\".format(self.filename))\n",
    "        print(\"Populate attribute {0}\".format(self.filename))\n",
    "    def write(self)-> None:\n",
    "        \"\"\" A write method of the JP2File class, prints out 'Read data to file xxx\" to the file the user enetered. \"\"\"\n",
    "        print(\"Write data to file {0}\".format(self.filename))\n",
    "        \n",
    "class SidFile(RasterData):\n",
    "    \"\"\" A subclass of rasterData. With multiple inheritance this class also has access to GisData attributes and functions. \"\"\"\n",
    "    filename = None\n",
    "    def __init__(self, f_name)-> None:\n",
    "        \"\"\" Initialization method for SidFile. Initializes filename and prints the class of the object and the attribute. \"\"\"\n",
    "        self.filename = f_name\n",
    "        print(\"In __init__ of class {0}\".format(self.__class__.__name__))\n",
    "        print(\"Attribute filename initiated\")\n",
    "        \n",
    "    def read(self)-> None:\n",
    "        \"\"\" A read method of the SidFile class, prints out 'Read data to file xxx\" to the file the user enetered. \"\"\"\n",
    "        print(\"Read data to file {0}\".format(self.filename))\n",
    "        print(\"Populate attribute {0}\".format(self.filename))\n",
    "    def write(self)-> None:\n",
    "        \"\"\" A write method of the SidFile class, prints out 'Read data to file xxx\" to the file the user enetered. \"\"\"\n",
    "        print(\"Write data to file {0}\".format(self.filename))\n",
    "        \n",
    "class HdfFile(RasterData):\n",
    "    \"\"\" A subclass of rasterData. With multiple inheritance this class also has access to GisData attributes and functions. \"\"\"\n",
    "    filename = None\n",
    "    def __init__(self, f_name)-> None:\n",
    "        \"\"\" Initialization method for HdfFile. Initializes filename and prints the class of the object and the attribute. \"\"\"\n",
    "        self.filename = f_name\n",
    "        print(\"In __init__ of class {0}\".format(self.__class__.__name__))\n",
    "        print(\"Attribute filename initiated\")\n",
    "        \n",
    "    def read(self)-> None:\n",
    "        \"\"\" A read method of the HdfFile class, prints out 'Read data to file xxx\" to the file the user enetered. \"\"\"\n",
    "        print(\"Read data to file {0}\".format(self.filename))\n",
    "        print(\"Populate attribute {0}\".format(self.filename))\n",
    "    def write(self)-> None:\n",
    "        \"\"\" A read method of the HdfFile class, prints out 'Read data to file xxx\" to the file the user enetered. \"\"\"\n",
    "        print(\"Write data to file {0}\".format(self.filename))\n",
    "        \n",
    "        \n",
    "        \n",
    "        \n",
    "        \n",
    "\n",
    "class ShpFile(VectorData):\n",
    "    \"\"\" A subclass of VectorData. With multiple inheritance this class also has access to GisData attributes and functions. \"\"\"\n",
    "    filename = None\n",
    "    def __init__(self, f_name)-> None:\n",
    "        \"\"\" Initialization method for ShpFile. Initializes filename and prints the class of the object and the attribute. \"\"\"\n",
    "        self.filename = f_name\n",
    "        print(\"In __init__ of class {0}\".format(self.__class__.__name__))\n",
    "        print(\"Attribute filename initiated\")\n",
    "        \n",
    "    def read(self)-> None:\n",
    "        \"\"\" A read method of the ShpFile class, prints out 'Read data to file xxx\" to the file the user enetered. \"\"\"\n",
    "        print(\"Read data to file {0}\".format(self.filename))\n",
    "        print(\"Populate attribute {0}\".format(self.filename))\n",
    "    def write(self)-> None:\n",
    "        \"\"\" A read method of the ShpFile class, prints out 'Read data to file xxx\" to the file the user enetered. \"\"\"\n",
    "        print(\"Write data to file {0}\".format(self.filename))\n",
    "        \n",
    "        \n",
    "class KmzFile(VectorData):\n",
    "    \"\"\" A subclass of VectorData. With multiple inheritance this class also has access to GisData attributes and functions. \"\"\"\n",
    "    filename = None\n",
    "    def __init__(self, f_name)-> None:\n",
    "        \"\"\" Initialization method for KmzFile. Initializes filename and prints the class of the object and the attribute. \"\"\"\n",
    "        self.filename = f_name\n",
    "        print(\"In __init__ of class {0}\".format(self.__class__.__name__))\n",
    "        print(\"Attribute filename initiated\")\n",
    "        \n",
    "    def read(self)-> None:\n",
    "        \"\"\" A read method of the KmzFile class, prints out 'Read data to file xxx\" to the file the user enetered. \"\"\"\n",
    "        print(\"Read data to file {0}\".format(self.filename))\n",
    "        print(\"Populate attribute {0}\".format(self.filename))\n",
    "    def write(self)-> None:\n",
    "        \"\"\" A read method of the KmzFile class, prints out 'Read data to file xxx\" to the file the user enetered. \"\"\"\n",
    "        print(\"Write data to file {0}\".format(self.filename))\n",
    "        \n",
    "\n",
    "class GdbFile(VectorData):\n",
    "    \"\"\" A subclass of VectorData. With multiple inheritance this class also has access to GisData attributes and functions. \"\"\"\n",
    "    filename = None\n",
    "    def __init__(self, f_name)-> None:\n",
    "        \"\"\" Initialization method for GdbFile. Initializes filename and prints the class of the object and the attribute. \"\"\"\n",
    "        self.filename = f_name\n",
    "        print(\"In __init__ of class {0}\".format(self.__class__.__name__))\n",
    "        print(\"Attribute filename initiated\")\n",
    "        \n",
    "    def read(self)-> None:\n",
    "        \"\"\" A read method of the GdbFile class, prints out 'Read data to file xxx\" to the file the user enetered. \"\"\"\n",
    "        print(\"Read data to file {0}\".format(self.filename))\n",
    "        print(\"Populate attribute {0}\".format(self.filename))\n",
    "    def write(self)-> None:\n",
    "        \"\"\" A read method of the GdbFile class, prints out 'Read data to file xxx\" to the file the user enetered. \"\"\"\n",
    "        print(\"Write data to file {0}\".format(self.filename))\n",
    "\n",
    "\n",
    "class OsmFile(VectorData):\n",
    "    \"\"\" A subclass of VectorData. With multiple inheritance this class also has access to GisData attributes and functions. \"\"\"\n",
    "    filename = None\n",
    "    def __init__(self, f_name)-> None:\n",
    "        \"\"\" Initialization method for OsmFile. Initializes filename and prints the class of the object and the attribute. \"\"\"\n",
    "        self.filename = f_name\n",
    "        print(\"In __init__ of class {0}\".format(self.__class__.__name__))\n",
    "        print(\"Attribute filename initiated\")\n",
    "        \n",
    "    def read(self)-> None:\n",
    "        \"\"\" A read method of the OsmFile class, prints out 'Read data to file xxx\" to the file the user enetered. \"\"\"\n",
    "        print(\"Read data to file {0}\".format(self.filename))\n",
    "        print(\"Populate attribute {0}\".format(self.filename))\n",
    "    def write(self)-> None:\n",
    "        \"\"\" A read method of the OsmFile class, prints out 'Read data to file xxx\" to the file the user enetered. \"\"\"\n",
    "        print(\"Write data to file {0}\".format(self.filename))"
   ]
  },
  {
   "cell_type": "code",
   "execution_count": 43,
   "metadata": {},
   "outputs": [
    {
     "name": "stdout",
     "output_type": "stream",
     "text": [
      "In __init__ of class TiffFile\n",
      "Attribute filename initiated\n",
      "In __init__ of class JP2File\n",
      "Attribute filename initiated\n",
      "In __init__ of class SidFile\n",
      "Attribute filename initiated\n",
      "In __init__ of class HdfFile\n",
      "Attribute filename initiated\n",
      "In __init__ of class ShpFile\n",
      "Attribute filename initiated\n",
      "In __init__ of class KmzFile\n",
      "Attribute filename initiated\n",
      "In __init__ of class GdbFile\n",
      "Attribute filename initiated\n",
      "In __init__ of class OsmFile\n",
      "Attribute filename initiated\n",
      "In __init__ of class GisData\n",
      "Attribute Projection_info initiated\n",
      "Attribute Geog_extent initiated\n",
      "Attribute filename initiated\n",
      "In __init__ of RasterData class\n",
      "Attribute Num_rows initiated\n",
      "Attribute Num_cols initiated\n",
      "Attribute Num_lauers initiated\n",
      "Attribute Raster_Format initiated\n",
      "Attribute data_layers initiated\n",
      "In __init__ of VectorData class\n",
      "Attribute Num_layers initiated\n",
      "Attribute Layers initiated\n",
      "Attribute Geometry initiated\n"
     ]
    }
   ],
   "source": [
    "# object creation\n",
    "t1 = TiffFile(\"Tiff\")\n",
    "j1 = JP2File(\"JP2\")\n",
    "sid1 = SidFile(\"Sid\")\n",
    "h1 = HdfFile(\"Hdf\")\n",
    "s1 = ShpFile(\"Shp\")\n",
    "k1 = KmzFile(\"Kmz\")\n",
    "g1 = GdbFile(\"Gdb\")\n",
    "o1 = OsmFile(\"Osm\")\n",
    "gis1 = GisData()\n",
    "r1 = RasterData()\n",
    "v1 = VectorData()"
   ]
  },
  {
   "cell_type": "code",
   "execution_count": 35,
   "metadata": {},
   "outputs": [
    {
     "name": "stdout",
     "output_type": "stream",
     "text": [
      "Read data to file Tiff\n",
      "Populate attribute Tiff\n",
      "projection reported for file TiffFile\n",
      "Geographic extent for file TiffFile\n",
      "Do band math for file TiffFile between 1 and 6\n",
      "Write data to file Tiff\n"
     ]
    }
   ],
   "source": [
    "# Raster data file formats\n",
    "t1.read()\n",
    "t1.reportProjection()\n",
    "t1.reportExtent()\n",
    "t1.BandMath(1,6)\n",
    "t1.write()"
   ]
  },
  {
   "cell_type": "code",
   "execution_count": 36,
   "metadata": {},
   "outputs": [
    {
     "name": "stdout",
     "output_type": "stream",
     "text": [
      "Read data to file JP2\n",
      "Populate attribute JP2\n",
      "projection reported for file JP2File\n",
      "Geographic extent for file JP2File\n",
      "Do band math for file JP2File between 2 and 7\n",
      "Write data to file JP2\n"
     ]
    }
   ],
   "source": [
    "j1.read()\n",
    "j1.reportProjection()\n",
    "j1.reportExtent()\n",
    "j1.BandMath(2,7)\n",
    "j1.write()"
   ]
  },
  {
   "cell_type": "code",
   "execution_count": 37,
   "metadata": {},
   "outputs": [
    {
     "name": "stdout",
     "output_type": "stream",
     "text": [
      "Read data to file Sid\n",
      "Populate attribute Sid\n",
      "projection reported for file SidFile\n",
      "Geographic extent for file SidFile\n",
      "Do band math for file SidFile between 3 and 8\n",
      "Write data to file Sid\n"
     ]
    }
   ],
   "source": [
    "sid1.read()\n",
    "sid1.reportProjection()\n",
    "sid1.reportExtent()\n",
    "sid1.BandMath(3,8)\n",
    "sid1.write()"
   ]
  },
  {
   "cell_type": "code",
   "execution_count": 38,
   "metadata": {},
   "outputs": [
    {
     "name": "stdout",
     "output_type": "stream",
     "text": [
      "Read data to file Hdf\n",
      "Populate attribute Hdf\n",
      "projection reported for file HdfFile\n",
      "Geographic extent for file HdfFile\n",
      "Do band math for file HdfFile between 4 and 9\n",
      "Write data to file Hdf\n"
     ]
    }
   ],
   "source": [
    "h1.read()\n",
    "h1.reportProjection()\n",
    "h1.reportExtent()\n",
    "h1.BandMath(4,9)\n",
    "h1.write()"
   ]
  },
  {
   "cell_type": "code",
   "execution_count": 39,
   "metadata": {},
   "outputs": [
    {
     "name": "stdout",
     "output_type": "stream",
     "text": [
      "Read data to file Shp\n",
      "Populate attribute Shp\n",
      "projection reported for file ShpFile\n",
      "Geographic extent for file ShpFile\n",
      "create a buffer of 12 for My_layer1 layer in file Shp\n",
      "Create a raster file for My_layer1 layer in file Shp\n",
      "Write data to file Shp\n"
     ]
    }
   ],
   "source": [
    "# Vector data file formats:\n",
    "s1.read()\n",
    "s1.reportProjection()\n",
    "s1.reportExtent()\n",
    "s1.Buffer(\"My_layer1\",12)\n",
    "s1.Rasterization(\"My_layer1\")\n",
    "s1.write()"
   ]
  },
  {
   "cell_type": "code",
   "execution_count": 40,
   "metadata": {},
   "outputs": [
    {
     "name": "stdout",
     "output_type": "stream",
     "text": [
      "Read data to file Kmz\n",
      "Populate attribute Kmz\n",
      "projection reported for file KmzFile\n",
      "Geographic extent for file KmzFile\n",
      "create a buffer of 13 for My_layer2 layer in file Kmz\n",
      "Create a raster file for My_layer1 layer in file Kmz\n",
      "Write data to file Kmz\n"
     ]
    }
   ],
   "source": [
    "k1.read()\n",
    "k1.reportProjection()\n",
    "k1.reportExtent()\n",
    "k1.Buffer(\"My_layer2\",13)\n",
    "k1.Rasterization(\"My_layer1\")\n",
    "k1.write()"
   ]
  },
  {
   "cell_type": "code",
   "execution_count": 41,
   "metadata": {},
   "outputs": [
    {
     "name": "stdout",
     "output_type": "stream",
     "text": [
      "Read data to file Gdb\n",
      "Populate attribute Gdb\n",
      "projection reported for file GdbFile\n",
      "Geographic extent for file GdbFile\n",
      "create a buffer of 14 for My_layer3 layer in file Gdb\n",
      "Create a raster file for My_layer1 layer in file Gdb\n",
      "Write data to file Gdb\n"
     ]
    }
   ],
   "source": [
    "g1.read()\n",
    "g1.reportProjection()\n",
    "g1.reportExtent()\n",
    "g1.Buffer(\"My_layer3\",14)\n",
    "g1.Rasterization(\"My_layer1\")\n",
    "g1.write()"
   ]
  },
  {
   "cell_type": "code",
   "execution_count": 42,
   "metadata": {},
   "outputs": [
    {
     "name": "stdout",
     "output_type": "stream",
     "text": [
      "Read data to file Osm\n",
      "Populate attribute Osm\n",
      "projection reported for file OsmFile\n",
      "Geographic extent for file OsmFile\n",
      "create a buffer of 15 for My_layer4 layer in file Osm\n",
      "Create a raster file for My_layer1 layer in file Osm\n",
      "Write data to file Osm\n"
     ]
    }
   ],
   "source": [
    "o1.read()\n",
    "o1.reportProjection()\n",
    "o1.reportExtent()\n",
    "o1.Buffer(\"My_layer4\",15)\n",
    "o1.Rasterization(\"My_layer1\")\n",
    "o1.write()"
   ]
  },
  {
   "cell_type": "code",
   "execution_count": 44,
   "metadata": {},
   "outputs": [
    {
     "name": "stdout",
     "output_type": "stream",
     "text": [
      "Read in GisData class\n",
      "projection reported for file GisData\n",
      "Geographic extent for file GisData\n",
      "Write in GisData class\n"
     ]
    }
   ],
   "source": [
    "gis1.read()\n",
    "gis1.reportProjection()\n",
    "gis1.reportExtent()\n",
    "gis1.write()"
   ]
  },
  {
   "cell_type": "code",
   "execution_count": 45,
   "metadata": {},
   "outputs": [
    {
     "name": "stdout",
     "output_type": "stream",
     "text": [
      "Read in GisData class\n",
      "projection reported for file RasterData\n",
      "Geographic extent for file RasterData\n",
      "Do band math for file RasterData between 5 and 10\n",
      "Write in GisData class\n"
     ]
    }
   ],
   "source": [
    "r1.read()\n",
    "r1.reportProjection()\n",
    "r1.reportExtent()\n",
    "r1.BandMath(5,10)\n",
    "r1.write()"
   ]
  },
  {
   "cell_type": "code",
   "execution_count": 46,
   "metadata": {},
   "outputs": [
    {
     "name": "stdout",
     "output_type": "stream",
     "text": [
      "Read in GisData class\n",
      "projection reported for file VectorData\n",
      "Geographic extent for file VectorData\n",
      "create a buffer of 14 for My_layer3 layer in file None\n",
      "Create a raster file for My_layer3 layer in file None\n",
      "Write in GisData class\n"
     ]
    }
   ],
   "source": [
    "v1.read()\n",
    "v1.reportProjection()\n",
    "v1.reportExtent()\n",
    "v1.Buffer(\"My_layer3\",14)\n",
    "v1.Rasterization(\"My_layer3\")\n",
    "v1.write()"
   ]
  },
  {
   "cell_type": "code",
   "execution_count": null,
   "metadata": {},
   "outputs": [],
   "source": []
  }
 ],
 "metadata": {
  "kernelspec": {
   "display_name": "Python 3",
   "language": "python",
   "name": "python3"
  },
  "language_info": {
   "codemirror_mode": {
    "name": "ipython",
    "version": 3
   },
   "file_extension": ".py",
   "mimetype": "text/x-python",
   "name": "python",
   "nbconvert_exporter": "python",
   "pygments_lexer": "ipython3",
   "version": "3.6.5"
  }
 },
 "nbformat": 4,
 "nbformat_minor": 2
}
