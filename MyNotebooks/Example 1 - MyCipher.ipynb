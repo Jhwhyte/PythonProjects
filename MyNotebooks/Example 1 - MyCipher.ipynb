{
 "cells": [
  {
   "cell_type": "markdown",
   "metadata": {},
   "source": [
    "# CODE EXAMPLE 1\n",
    "# MyCipher\n",
    "### By: James Whyte\n",
    "\n",
    "## SECTION 1\n",
    "\n",
    "##### Creating a string message and then printing it out"
   ]
  },
  {
   "cell_type": "markdown",
   "metadata": {},
   "source": [
    "message = \"Hello team mates let us do our best\"\n",
    "print(message)"
   ]
  },
  {
   "cell_type": "markdown",
   "metadata": {},
   "source": [
    "## SECTION 2\n",
    "##### creating two lists for encyrpted and decrypted elements. Later to be populated."
   ]
  },
  {
   "cell_type": "code",
   "execution_count": 9,
   "metadata": {},
   "outputs": [],
   "source": [
    "encrypted_list = []\n",
    "decrypted_list = []"
   ]
  },
  {
   "cell_type": "markdown",
   "metadata": {},
   "source": [
    "##### My encrypter method. This checks to see if a comma exists, if so it parses the text into words then letters and converts it\n",
    "##### accordingly. It then adds then letter to the encrypted list, which is at the beginning empytied.\n",
    "##### if it doesnt contain a comma it does the same operation except parses a string deliminated by spaces."
   ]
  },
  {
   "cell_type": "code",
   "execution_count": 4,
   "metadata": {},
   "outputs": [],
   "source": [
    "def myEncrypterMethod(message):\n",
    "    encrypted_list[:] = []\n",
    "\n",
    "    if(message.find(',') != -1):\n",
    "        customSplitter = message.split(',')\n",
    "\n",
    "        \n",
    "        for group_member in customSplitter:\n",
    "            splitter = group_member.split(' ')\n",
    "            for word in splitter:\n",
    "                counter = 1\n",
    "                for letter in word:\n",
    "                    converter = ord(letter) + counter\n",
    "                    counter+=1\n",
    "                    encrypted_list.append(chr(converter))\n",
    "                encrypted_list.append(' ')\n",
    "            encrypted_list.pop()\n",
    "            encrypted_list.append(',')\n",
    "        encrypted_list.pop()\n",
    "        for thing in encrypted_list:\n",
    "            print(thing,end=\"\")\n",
    "    else:\n",
    "        splitter = message.split(' ')\n",
    "    \n",
    "        for i in splitter:\n",
    "            counter = 1\n",
    "            for j in i:\n",
    "                converter = ord(j) + counter\n",
    "                counter+=1\n",
    "                encrypted_list.append(chr(converter))\n",
    "            encrypted_list.append(' ')\n",
    "        for j in encrypted_list:\n",
    "            print(j,end=\"\")"
   ]
  },
  {
   "cell_type": "markdown",
   "metadata": {},
   "source": [
    "###### here running the myEncrypted method. Shifting each letter by one plus the previous accumulation."
   ]
  },
  {
   "cell_type": "code",
   "execution_count": 10,
   "metadata": {},
   "outputs": [
    {
     "name": "stdout",
     "output_type": "stream",
     "text": [
      "Igopt ugdq ncwix mgw vu eq pwu cgvx "
     ]
    }
   ],
   "source": [
    "myEncrypterMethod(message)"
   ]
  },
  {
   "cell_type": "markdown",
   "metadata": {},
   "source": [
    "##### my decrypter method. Empyties the previous decrypted list then sets a counter, checks if the itererating variable is ' ' or ,\n",
    "##### if so then add that symbol the decrypted list and reset counter to 1. If not those then undo the previous encryption by\n",
    "##### stepping back one upon the previous accumlation of numbers. Convert to character, add to the counter. Run a for-loop and print\n",
    "##### the list out."
   ]
  },
  {
   "cell_type": "code",
   "execution_count": 11,
   "metadata": {},
   "outputs": [],
   "source": [
    "def myDecrypterMethod(encrypted_list):\n",
    "    decrypted_list[:] = []\n",
    "\n",
    "    counter = 1\n",
    "    for i in encrypted_list:\n",
    "        if(i == ' '):\n",
    "            decrypted_list.append(' ')\n",
    "            counter = 1\n",
    "        elif(i == ','):\n",
    "            decrypted_list.append(',')\n",
    "            counter = 1\n",
    "        else:\n",
    "            i = ord(i) - counter\n",
    "            decrypted_list.append(chr(i))\n",
    "            counter += 1\n",
    "        \n",
    "    for j in decrypted_list:\n",
    "        print(j,end=\"\")"
   ]
  },
  {
   "cell_type": "markdown",
   "metadata": {},
   "source": [
    "##### running the decryption method on the populated encrypted list"
   ]
  },
  {
   "cell_type": "code",
   "execution_count": 15,
   "metadata": {},
   "outputs": [
    {
     "name": "stdout",
     "output_type": "stream",
     "text": [
      "Hello team mates let us do our best "
     ]
    }
   ],
   "source": [
    "myDecrypterMethod(encrypted_list)"
   ]
  },
  {
   "cell_type": "markdown",
   "metadata": {},
   "source": [
    "## SECTION 3\n",
    "\n",
    "##### My custom encrypter method. This empties out the previous encrypted list then populates that list from the original message by\n",
    "##### converting each character in the binary code. Then printing out the contents of that newly populated list."
   ]
  },
  {
   "cell_type": "code",
   "execution_count": 18,
   "metadata": {},
   "outputs": [],
   "source": [
    "def customEncrypterMethod(message):\n",
    "    encrypted_list[:] = []\n",
    "    \n",
    "    for i in message:\n",
    "        x = bin(ord(i))[2:]\n",
    "        encrypted_list.append(x)\n",
    "\n",
    "    for b in encrypted_list:\n",
    "        print(b, end=\"\")"
   ]
  },
  {
   "cell_type": "markdown",
   "metadata": {},
   "source": [
    "##### running my custom encryption method"
   ]
  },
  {
   "cell_type": "code",
   "execution_count": 19,
   "metadata": {},
   "outputs": [
    {
     "name": "stdout",
     "output_type": "stream",
     "text": [
      "1001000110010111011001101100110111110000011101001100101110000111011011000001101101110000111101001100101111001110000011011001100101111010010000011101011110011100000110010011011111000001101111111010111100101000001100010110010111100111110100"
     ]
    }
   ],
   "source": [
    "customEncrypterMethod(message)"
   ]
  },
  {
   "cell_type": "markdown",
   "metadata": {},
   "source": [
    "##### My decrypter method. This decryptes the previous by emptying out the decryped list then interating through each letter and \n",
    "##### undoing the previous binary switch by using int(binary,2) then converting that to a character using chr"
   ]
  },
  {
   "cell_type": "code",
   "execution_count": 21,
   "metadata": {},
   "outputs": [],
   "source": [
    "def customDecrypterMethod(encrypted_list):\n",
    "    decrypted_list[:] = []\n",
    "\n",
    "    for e in encrypted_list:\n",
    "        b = int(e,2)\n",
    "        decrypted_list.append(b)\n",
    "        print(chr(b),end=\"\")"
   ]
  },
  {
   "cell_type": "markdown",
   "metadata": {},
   "source": [
    "##### running that previous method on the previous binary populated encrypted list"
   ]
  },
  {
   "cell_type": "code",
   "execution_count": 22,
   "metadata": {},
   "outputs": [
    {
     "name": "stdout",
     "output_type": "stream",
     "text": [
      "Hello team mates let us do our best"
     ]
    }
   ],
   "source": [
    "customDecrypterMethod(encrypted_list)"
   ]
  },
  {
   "cell_type": "markdown",
   "metadata": {},
   "source": [
    "## SECTION 4\n",
    "##### creating the string of students names, email addesses, and phone numbers. Using a comma to separate them."
   ]
  },
  {
   "cell_type": "code",
   "execution_count": 33,
   "metadata": {},
   "outputs": [],
   "source": [
    "students = \"Benny Ace johndoe@umd.edu 3012832342,Annie Den janedoe@umd.edu 3012832333,Cacey zoe jackdoe@umd.edu 3012835432,Jessie doe jessiedoe@umd.edu 3012833425,Tabby Thomas tomdoe@umd.edu 301-283-0987\" "
   ]
  },
  {
   "cell_type": "markdown",
   "metadata": {},
   "source": [
    "##### running my encryption method on the 'students' string"
   ]
  },
  {
   "cell_type": "code",
   "execution_count": 25,
   "metadata": {},
   "outputs": [
    {
     "name": "stdout",
     "output_type": "stream",
     "text": [
      "Cgqr~ Beh kqkriulH~wo:rr 4246=99;=<,Bpqmj Egq kcqiiulH~wo:rr 4246=99;<=,Dcfi~ {qh kcfoiulH~wo:rr 4246=9<<<<,Kgvwnk eqh kgvwnkkwnJyq<tt 4246=9:<;?,Ucef~ Ujrqfy uqphtkG}vn9qq 42417>:59CCC"
     ]
    }
   ],
   "source": [
    "myEncrypterMethod(students)"
   ]
  },
  {
   "cell_type": "markdown",
   "metadata": {},
   "source": [
    "##### running the decryption method on the encrypted list from the students string"
   ]
  },
  {
   "cell_type": "code",
   "execution_count": 26,
   "metadata": {},
   "outputs": [
    {
     "name": "stdout",
     "output_type": "stream",
     "text": [
      "Benny Ace johndoe@umd.edu 3012832342,Annie Den janedoe@umd.edu 3012832333,Cacey zoe jackdoe@umd.edu 3012835432,Jessie doe jessiedoe@umd.edu 3012833425,Tabby Thomas tomdoe@umd.edu 301-283-0987"
     ]
    }
   ],
   "source": [
    "myDecrypterMethod(encrypted_list)"
   ]
  },
  {
   "cell_type": "markdown",
   "metadata": {},
   "source": [
    "##### running my custom encryption method on the students string"
   ]
  },
  {
   "cell_type": "code",
   "execution_count": 27,
   "metadata": {},
   "outputs": [
    {
     "name": "stdout",
     "output_type": "stream",
     "text": [
      "1000010110010111011101101110111100110000010000011100011110010110000011010101101111110100011011101100100110111111001011000000111010111011011100100101110110010111001001110101100000110011110000110001110010111000110011110010110011110100110010101100100000111011101101110110100111001011000001000100110010111011101000001101010110000111011101100101110010011011111100101100000011101011101101110010010111011001011100100111010110000011001111000011000111001011100011001111001011001111001111001110110010000111100001110001111001011111001100000111101011011111100101100000110101011000011100011110101111001001101111110010110000001110101110110111001001011101100101110010011101011000001100111100001100011100101110001100111101011101001100111100101011001001010110010111100111110011110100111001011000001100100110111111001011000001101010110010111100111110011110100111001011100100110111111001011000000111010111011011100100101110110010111001001110101100000110011110000110001110010111000110011110011110100110010110101101100101010011000011100010110001011110011000001010100110100011011111101101110000111100111000001110100110111111011011100100110111111001011000000111010111011011100100101110110010111001001110101100000110011110000110001101101110010111000110011101101110000111001111000110111"
     ]
    }
   ],
   "source": [
    "customEncrypterMethod(students)"
   ]
  },
  {
   "cell_type": "markdown",
   "metadata": {},
   "source": [
    "##### decrypting that using my custom decryption method"
   ]
  },
  {
   "cell_type": "code",
   "execution_count": 28,
   "metadata": {},
   "outputs": [
    {
     "name": "stdout",
     "output_type": "stream",
     "text": [
      "Benny Ace johndoe@umd.edu 3012832342,Annie Den janedoe@umd.edu 3012832333,Cacey zoe jackdoe@umd.edu 3012835432,Jessie doe jessiedoe@umd.edu 3012833425,Tabby Thomas tomdoe@umd.edu 301-283-0987"
     ]
    }
   ],
   "source": [
    "customDecrypterMethod(encrypted_list)"
   ]
  },
  {
   "cell_type": "markdown",
   "metadata": {},
   "source": [
    "##### organizing the string of student names, emails, and phone numbers by the last name of the student in the comma deliminate string\n",
    "##### I do this by empyting the encrypted list and then using the 'sorted' method, split and a key with lamba and the first index for\n",
    "##### each comma section. Then I append that ordered list and pop the last comma off of it using 'pop'. Then I use the join function\n",
    "##### to form the list into a string then loop through it to display it in alphabetical form."
   ]
  },
  {
   "cell_type": "code",
   "execution_count": 29,
   "metadata": {},
   "outputs": [],
   "source": [
    "def alphaOrderByLastName(students):\n",
    "    encrypted_list[:]=[]\n",
    "    studentSort = sorted(students.split(','), key=lambda x: (x.split()[1],x))\n",
    "\n",
    "    \n",
    "    for element in studentSort:\n",
    "        encrypted_list.append(element)\n",
    "        encrypted_list.append(',')\n",
    "    encrypted_list.pop()\n",
    "        \n",
    "    b = ''.join(encrypted_list)\n",
    "    \n",
    "    for i in b:\n",
    "\n",
    "        print(i,end=\"\")"
   ]
  },
  {
   "cell_type": "markdown",
   "metadata": {},
   "source": [
    "##### running the alphabetical method"
   ]
  },
  {
   "cell_type": "code",
   "execution_count": 30,
   "metadata": {},
   "outputs": [
    {
     "name": "stdout",
     "output_type": "stream",
     "text": [
      "Benny Ace johndoe@umd.edu 3012832342,Annie Den janedoe@umd.edu 3012832333,Tabby Thomas tomdoe@umd.edu 301-283-0987,Jessie doe jessiedoe@umd.edu 3012833425,Cacey zoe jackdoe@umd.edu 3012835432"
     ]
    }
   ],
   "source": [
    "alphaOrderByLastName(students)"
   ]
  },
  {
   "cell_type": "markdown",
   "metadata": {},
   "source": [
    "##### My alphaOrderEncypter method uses the previously populated list. First the decrypted list is empytied then the encrypted list\n",
    "##### is formed into a string using the join method. Then that variable is split according to commas. Then that split in put into\n",
    "##### a for-loop to iterate the sentences, then those sentences are also split into words by their spaces. Then those words are\n",
    "##### iterated through. I do the same conversion as before. Then I loop through the newly appended decrypted list."
   ]
  },
  {
   "cell_type": "code",
   "execution_count": 31,
   "metadata": {},
   "outputs": [],
   "source": [
    "def alphaOrderEncrypter(encrypted_list):\n",
    "    decrypted_list[:]=[]\n",
    "    \n",
    "    b = ''.join(encrypted_list)\n",
    "    splitter = b.split(',')\n",
    "    \n",
    "    for sentence in splitter:\n",
    "        splitter2 = sentence.split(' ')\n",
    "        for word in splitter2:\n",
    "            counter = 1\n",
    "            for letter in word:\n",
    "                letter = ord(letter) + counter\n",
    "                counter += 1\n",
    "                decrypted_list.append(chr(letter))\n",
    "            decrypted_list.append(' ')\n",
    "    decrypted_list.pop()\n",
    "    \n",
    "    for i in decrypted_list:\n",
    "        print(i,end=\"\")"
   ]
  },
  {
   "cell_type": "markdown",
   "metadata": {},
   "source": [
    "##### running the alpha order encrypter method on the populated encrypted list of the student string"
   ]
  },
  {
   "cell_type": "code",
   "execution_count": 32,
   "metadata": {},
   "outputs": [
    {
     "name": "stdout",
     "output_type": "stream",
     "text": [
      "Cgqr~ Beh kqkriulH~wo:rr 4246=99;=< Bpqmj Egq kcqiiulH~wo:rr 4246=99;<= Ucef~ Ujrqfy uqphtkG}vn9qq 42417>:59CCC Kgvwnk eqh kgvwnkkwnJyq<tt 4246=9:<;? Dcfi~ {qh kcfoiulH~wo:rr 4246=9<<<<"
     ]
    }
   ],
   "source": [
    "alphaOrderEncrypter(encrypted_list)"
   ]
  }
 ],
 "metadata": {
  "kernelspec": {
   "display_name": "Python 3",
   "language": "python",
   "name": "python3"
  },
  "language_info": {
   "codemirror_mode": {
    "name": "ipython",
    "version": 3
   },
   "file_extension": ".py",
   "mimetype": "text/x-python",
   "name": "python",
   "nbconvert_exporter": "python",
   "pygments_lexer": "ipython3",
   "version": "3.6.5"
  }
 },
 "nbformat": 4,
 "nbformat_minor": 2
}
