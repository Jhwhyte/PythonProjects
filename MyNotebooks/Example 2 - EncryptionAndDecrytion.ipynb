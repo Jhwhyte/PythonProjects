{
 "cells": [
  {
   "cell_type": "markdown",
   "metadata": {},
   "source": [
    "# CODE EXAMPLE 2\n",
    "# EncryptionAndDecrytion\n",
    "### By: James Whyte"
   ]
  },
  {
   "cell_type": "markdown",
   "metadata": {},
   "source": [
    "# Pseudocode for encryption and decryption function:"
   ]
  },
  {
   "cell_type": "markdown",
   "metadata": {},
   "source": [
    "store each of the messages you will send to your team members in a string variable\n",
    "create two empty lists. One for where the encrypted characters will go and another where the decrypted characters will go\n",
    "\n",
    "Encyrption method pseudocode:\n",
    "\n",
    "Create a function, have it take in two parameters.\n",
    "    make the first parameter for the length where each letter will be shifted up to and reset\n",
    "    make the second parameter for the message(s) you wrote above\n",
    "    empty out the conents of the list\n",
    "    create a variable which will set the length of the length parameter to 1\n",
    "    loop through the message one character at a time\n",
    "\n",
    "    if the counter variable is greater than the length variable rest it back to one\n",
    "        convert the iterable variable to its ascii value and append the counter variable\n",
    "        append and convert the iterable variable to alphanumeric character to encrypted list \n",
    "        append one to the counter\n",
    "\n",
    "    otherwise, convert the iterable variable to its ascii value\n",
    "        update the counter plus one\n",
    "        Append the iterable variable to its alphanumeric character to the decryped list\n",
    "\n",
    "    create a varaible to join the encrypted list to a string\n",
    "    loop through each element of that string and print out the element\n",
    "\n",
    "\n",
    "Decryption pseudocode:\n",
    "\n",
    "create a function for the decryptor method\n",
    "    create two parameters for the function.\n",
    "    The first for the length of the encrypted list, and the second for the list itself\n",
    "    empty out the contents of the decrypted list\n",
    "    create a variable to join the second parameter (encrypted list) to a string\n",
    "    create a counter variable and assign it to the value 1\n",
    "    loop through the list to string variable\n",
    "\n",
    "    if the counter variable is greater than the first parameter length\n",
    "        then reset the counter to the value 1\n",
    "        convert the iterable variable to ascii and subtract the current counter value\n",
    "        append and convert the iterable variable to alphanumeric counterpart\n",
    "        add to the decrypted list\n",
    "        update the counter plus 1\n",
    "    \n",
    "    otherwise take the iterable variable convert it to its ascii value and subtract one\n",
    "        append and convert ascii value to its alphanumeric counterpart add to decrypted list\n",
    "        \n",
    "join the decrypted list to a become a string\n",
    "loop through that string and print out each element in the string\n"
   ]
  },
  {
   "cell_type": "markdown",
   "metadata": {},
   "source": [
    "##### setting variables for each of the three messages I sent to my team mates\n",
    "##### setting variables for each of the three messages my team mates sent me"
   ]
  },
  {
   "cell_type": "code",
   "execution_count": 21,
   "metadata": {},
   "outputs": [],
   "source": [
    "my_text_message1 = \"Hello there! my name is James Whyte and I am part of your team in GEOG476. My interests include mathematics, programming, data science, statistics, art, and music. As a hobby I enjoy playing the guitar, sleeping, and drinking green tea. My major is geospatial information science and computer cartography. My expected graduation is December 2018. My goal for this class is to become more proficient in geospatial data analysis, collection, and visualization by the medium of python programming. I hope to gain the skills needed for companies such as NASA, Census bureau, SPACE-X, and the like. I think you will add great value to the team with your geospatial information. This will help us with further projects. With our collective efforts I believe we can transform our academic and professional lives through this class. As today more than ever the use of geo-spatial data is critical. Success is no accident. It is hard work, perseverance, learning, studying, sacrifice and most of all, love of what you are doing or learning to do. And your positive action combined with positive thinking results in success. Just as Your positive action combined with positive thinking results in success. Some people dream of success, while other people get up every morning and make it happen. Coming together is a beginning; keeping together is progress; working together is success. Ultimately, leadership is not about glorious crowning acts. It's about keeping your team focused on a goal and motivated to do their best to achieve it, especially when the stakes are high and the consequences really matter. It is about laying the groundwork for others' success, and then standing back and letting them shine. Patience, persistence and perspiration make an unbeatable combination for success. So let us do our best. And never forget that the difference between good and great is 5%.\"\n",
    "\n",
    "my_text_message2 = \"Hi! Glad to have you as a team mate! my name is James Whyte and I am part of your team in GEOG476. My interests include mathematics, programming, data science, statistics, art, and music. As a hobby I enjoy playing the guitar, sleeping, and drinking green tea. My major is geospatial information science and computer cartography. My expected graduation is December 2018. My goal for this class is to become more proficient in geospatial data analysis, collection, and visualization by the medium of python programming. I hope to gain the skills needed for companies such as NASA, Census bureau, SPACE-X, and the like. I think you will add great value to the team with your skills. A dream doesn't become reality through magic; it takes sweat, determination and hard work. Success is no accident. It is hard work, perseverance, learning, studying, sacrifice and most of all, love of what you are doing or learning to do. Without hard work, nothing grows but weeds. Success isn't always about greatness. It's about consistency. Consistent hard work leads to success. Greatness will come. Keep your dreams alive. Understand to achieve anything requires faith and belief in yourself, vision, hard work, determination, and dedication. Remember all things are possible for those who believe. To be a champion, I think you have to see the big picture. It's not about winning and losing; it's about every day hard work and about thriving on a challenge. It's about embracing the pain that you'll experience at the end of a race and not being afraid. I think people think too hard and get afraid of a certain challenge. All life demands struggle. Those who have everything given to them become lazy, selfish, and insensitive to the real values of life. The very striving and hard work that we so constantly try to avoid is the major building block in the person we are today.\"\n",
    "\n",
    "my_text_message3 = \"Greetings there! my name is James Whyte and I am part of your team in GEOG476. My interests include mathematics, programming, data science, statistics, art, and music. As a hobby I enjoy playing the guitar, sleeping, and drinking green tea. My major is geospatial information science and computer cartography. My expected graduation is December 2018. My goal for this class is to become more proficient in geospatial data analysis, collection, and visualization by the medium of python programming. I hope to gain the skills needed for companies such as NASA, Census bureau, SPACE-X, and the like. I think you will add great value to the team with your skills. Whatever you go into, you have to go in there to be the best. There's no formulas. It's all about passion and honesty and hard work. It might look glamorous, but it takes a lot of hard work. The blessing with the arts is that you can do it forever. If four things are followed - having a great aim, acquiring knowledge, hard work, and perseverance - then anything can be achieved. A dream doesn't become reality through magic; it takes sweat, determination and hard work. The basic skills of leaders are always the same: be driven by a deeper purpose, be a human being, have a passion for what you do, and it's also about hard work and ethics. Respect your parents. What they tell you is true. Hard work, dedication and faith will get you anything. Imagination will drive itself. You can get anything you want, but you have to have faith behind all your ideas. Stick to your goals and have an undying faith. Self-belief and hard work will always earn you success. Hard work without talent is a shame, but talent without hard work is a tragedy.\"\n",
    "\n",
    "group_member_one_message = '''N{#rfsl!kv$Ysft#Vnioncq$ftk!K#er&h!uhrnuy!Cwqtywigumh&hof#Shkhokf$Xipfpfi%,'Hgrkwgwikfeq&Pohrvrg{jqq$Xipfpfi%j|bn#qfpvs0#M%kqgfxjj'uq#kwgkvcwi%zoju#wuxpoi#esj'iqsi%zv!urss&wvtvyj&h!odwykyt\"gilxlf\"lr%MPT\"rv%Ktftjisi?!Odrfmlngqx3&Tz\"jsfr'gqu$ynpt\"fpfyz!kv$yu'hclr%g'cgwxjx'vpgiwy{bpgmsm'ph#T~zopp#twunscpqntn/\"L+r&zjosp~&oprlrl&{icw$t{y!iuszv'dcq$mksq\"hehn'pvkiw&vvv#{mkufxhv%vypdoiry'btlwj&vo\"dwxonoohryy5'''\n",
    "\n",
    "group_member_two_message = '''N{!pbof\"ju!Vsqz\"Xcmmft!cof!K!cn\"b\"tgokpt!epoqwugs\"tejgoef\"nckqs\"bpe\"b\"HKT\"nkoqs0!K!gyrfeu\"uq!iscewbvf\"ujju!uqtjph\"bpe\"iqqg!vp\"tqpp!yptl\"jp!vig!hsqov.gof!yfd!ffxfnprngov!kofvuutz\"bpe\"ppf\"ecz\"cg!c!epoqnfvf\"gwmn.uucdm!ffxfnprft/\"N{!ipcm\"gqs\"ujju!emctu!kt\"uq!dfepof\"b\"cguvft!rzviqo\"qtpiscnoft!cof!K!jprf\"ujjpl\"ujju!isqvr!ebp!jfnq\"c{!cmn!yptlkoi!vpifvigs\"bpe\"tjbtjph\"pws\"lppymgeif\"xkuj!gbei\"pvigs0'''\n",
    "\n",
    "group_member_three_message = ''' '''\n"
   ]
  },
  {
   "cell_type": "markdown",
   "metadata": {},
   "source": [
    "##### setting up two empty lists to later be populated by the encryption and decryption functions"
   ]
  },
  {
   "cell_type": "code",
   "execution_count": 4,
   "metadata": {},
   "outputs": [],
   "source": [
    "encrypted_list = []\n",
    "decrypted_list = []"
   ]
  },
  {
   "cell_type": "markdown",
   "metadata": {},
   "source": [
    "##### my encrytion method which takes in two parameters, first for length that each character will be shifted up to based on its iterating position. Second the message, either mine or from my team members. \n",
    "##### Then a counter is made to scale the length to 1 so that the loop can iterate towards the specified length\n",
    "##### Then I loop through the message, check if it's great than the set counter of 1, if so reset the counter.\n",
    "##### Then convert iterable variable to ASCII append the counter to it.\n",
    "##### Then convert the ASCII to alphanumeric and append to the encrypted list\n",
    "##### Otherise, do the same as aove without reseting the counter\n",
    "##### join the crypted list to a string, iterate through that string and print each element"
   ]
  },
  {
   "cell_type": "code",
   "execution_count": 5,
   "metadata": {},
   "outputs": [],
   "source": [
    "def myEncryptionMethod(length, text_message):\n",
    "    encrypted_list[:] = []\n",
    "\n",
    "    counter = length - (length - 1) # scales it back to 1\n",
    "\n",
    "    for i in text_message:\n",
    "        if (counter > length):\n",
    "            counter = length - (length -1) # reset back to 1\n",
    "            i = ord(i) + counter\n",
    "            encrypted_list.append(chr(i))\n",
    "            counter += 1\n",
    "            \n",
    "        else:\n",
    "            letter = ord(i) + counter\n",
    "            counter += 1\n",
    "            encrypted_list.append(chr(letter))\n",
    "    \n",
    "    listToString = \"\".join(encrypted_list)\n",
    "        \n",
    "    for element in listToString:\n",
    "        print(element,end=\"\")"
   ]
  },
  {
   "cell_type": "markdown",
   "metadata": {},
   "source": [
    "##### creating a decryption method for the above encryption method. Essentially undoing what has previously been down to the encrypted list.\n",
    "##### I first empty out the contents of the decrypted list.\n",
    "##### Then join the encrypted list to a string\n",
    "##### Set a counter variable to 1.\n",
    "##### Loop through the joined list to string variable\n",
    "##### If the counter value is greater than the length reset it to 1\n",
    "##### convert the iterable variable to ascii and subtract the counter\n",
    "##### append the letter to the decrypted list, convert to alphanumeric character\n",
    "##### update the counter +1\n",
    "##### otherwise, convert the iterable variable to ASCII and subtract off the counter\n",
    "##### append the iterable variable to the list, convert the iterable variable to alphanumeric\n",
    "##### update the counter +1\n",
    "##### join the decrypted list to an empty string variable. Then loop through that string and print the items"
   ]
  },
  {
   "cell_type": "code",
   "execution_count": 6,
   "metadata": {},
   "outputs": [],
   "source": [
    "def myDecryptionMethod(length, encrypted_list):\n",
    "    decrypted_list[:] = []\n",
    "    \n",
    "    listToString = \"\".join(encrypted_list)\n",
    "    \n",
    "    counter = 1\n",
    "    \n",
    "    for letter in listToString:\n",
    "\n",
    "        if (counter > length):\n",
    "            counter = 1 # reset to 1\n",
    "            letter = ord(letter) - counter\n",
    "            decrypted_list.append(chr(letter))\n",
    "            counter += 1\n",
    "        else:\n",
    "            letter = ord(letter) - counter\n",
    "            decrypted_list.append(chr(letter))\n",
    "            counter += 1\n",
    "\n",
    "    decryptedListToString = \"\".join(decrypted_list)\n",
    "\n",
    "    for item in decryptedListToString:\n",
    "        print(item,end=\"\")"
   ]
  },
  {
   "cell_type": "code",
   "execution_count": 7,
   "metadata": {},
   "outputs": [
    {
     "name": "stdout",
     "output_type": "stream",
     "text": [
      "Encryted message to group member one: \n",
      "Igomq#ujhsg$!o|!pdng#ju#Kcpfu#Xj|ug#bpg!K#bo#qcuu\"rg\"|pwu!vhbo#jp#HGRH6:70#N{#jpwfthtvv!kqdnxeg#ncwigpbvldu/!rupiubopjpj-\"gbvd!ufjgqdg/!uwbvltvldu/!cuu.#bpg!oxtkf/\"Dt\"d!jrcd|!K#fpmp{#qndzkqh\"wig#hwlucu-\"vmghqkqh.#bpg!fujpnjpj!iufgq!vhb0#N{#ncmpt#ju#hgrtrdukdm\"lohrsodukro\"vdkhoeh!cqe\"fposvvhs\"fbtwpiubrkz0#N{#fzsfewff#htdewdukro\"lt\"Gfehndhs\"513;/\"Pz\"jpco!hrs\"wikv!eobuv!kv!vr!dhdqpf\"ppth!ruphldkhov#jp#hgrtrdukdm\"gbvd!cqbn|tkv-\"fpnofewjqq-\"dof#wkvvcoj|dukro\"ez\"wig#nggjwp!qi!r|ujro\"ssqjscpnkqh0#J\"kprh!vr!idjp#ujh!unjnot\"qfggff#gqu!ernrdokht\"vvek!cv!PDTC/!Ehouxt\"evthbw/!USBEH.Z/!cqe\"wig#mknf0#J\"wikql\"|pw#xkom\"def#hthbv#wcovg#uq#ujh!vhbo#xkwi\"|pwu!ihpusbvlbn#jpiptpbvlpp1!Vkju#xkom\"kfns!wv!yluj#gwuujhs\"ssqmfewt0#Xkwi\"rvt#dqomgfukyf\"hghrsvv!K#cgojgyf\"zf\"fbp#utdouiptp!qxs\"ddcgfold\"dof#qtrggvtkroco!nlwgv!vksqxhj#ujlt\"fmcvt0#Bu#uqgb{#nquf\"wicq!gyft#ujh!wvf\"rg\"jfq0trdukdm\"gbvd!kv!eujvldco/\"Vveffuv!kv!pr!cfdkgfpw/\"Lu\"lt\"kbtg!yrsm/!rhsuhwgubpff.#mgdsploi/!uwvf|jpj-\"vbeujhldg#bpg!ortv#ph#bno-\"opxh!qi!ykbv#zqx!cuf\"gpkqh\"rs\"ofcuokqh\"wp\"gp0#Bpg!{rvt#qqvjvlwg#bewjqq!erndlogg!yluj#qqvjvlwg#ujlomloi#sgvvnwt\"lo\"vveffuv/\"Mvuw!cv![rvt#qqvjvlwg#bewjqq!erndlogg!yluj#qqvjvlwg#ujlomloi#sgvvnwt\"lo\"vveffuv/\"Vpoh!rhprof\"gsgdn\"rg\"vveffuv-\"zikof\"rujhs\"sfqsmg#hgw!ws!gyft|!orsploi#bpg!odlg#jv#icsqgq/\"Fpoloi#uqjfvkft#ju#b\"efiloploi>!mhfrloi#uqjfvkft#ju#qtrhthtu>!yrsmloi#uqjfvkft#ju#twfdgvt0#Vnwjodugoz.#mgdegutjlq\"lt\"qpv#bdrvv#hnrskrvu#dtrxploi#bewt0#Jv*t\"dcqxu\"nfgsjpj!{rvt#ugdn\"ipextgg!qq!c#hqdm\"dof#nqwjxdugg!vr!fr!vkfku!dhtv#uq#bekjgyf\"lu.#fusfelbnoz\"zigq!vkf\"vucnfu#bth!jlhj#bpg!vkf\"fppvfsxfpffu#sgdmn|!oduvhs0#Jv#ju#bdrvv#mc|jpj!vkf\"jsqxofzptn!hrs\"rujhsu*!uxdehtu/!cqe\"wigq!uwbpgjpj!dddm#bpg!nhuvloi#ujhn\"vikqf0#Qcwjgqdg/!rhsultvhoeh!cqe\"sftvqkubvlpp#ncnf\"do\"xodhbvdcnh!erndlocwjqq!hrs\"vveffuv/\"Vp\"ofv#vu#eq#pwu!dhtv1!Cqe\"qfxhs\"iptjfv#ujdu\"wig#ekiggufpff\"efvzfgq!irpf#bpg!iufcw!kv!7(/"
     ]
    }
   ],
   "source": [
    "print(\"Encryted message to group member one: \")\n",
    "myEncryptionMethod(3, my_text_message1)"
   ]
  },
  {
   "cell_type": "code",
   "execution_count": 8,
   "metadata": {},
   "outputs": [
    {
     "name": "stdout",
     "output_type": "stream",
     "text": [
      "Decrypted message to group member one: \n",
      "Hello there! my name is James Whyte and I am part of your team in GEOG476. My interests include mathematics, programming, data science, statistics, art, and music. As a hobby I enjoy playing the guitar, sleeping, and drinking green tea. My major is geospatial information science and computer cartography. My expected graduation is December 2018. My goal for this class is to become more proficient in geospatial data analysis, collection, and visualization by the medium of python programming. I hope to gain the skills needed for companies such as NASA, Census bureau, SPACE-X, and the like. I think you will add great value to the team with your geospatial information. This will help us with further projects. With our collective efforts I believe we can transform our academic and professional lives through this class. As today more than ever the use of geo-spatial data is critical. Success is no accident. It is hard work, perseverance, learning, studying, sacrifice and most of all, love of what you are doing or learning to do. And your positive action combined with positive thinking results in success. Just as Your positive action combined with positive thinking results in success. Some people dream of success, while other people get up every morning and make it happen. Coming together is a beginning; keeping together is progress; working together is success. Ultimately, leadership is not about glorious crowning acts. It's about keeping your team focused on a goal and motivated to do their best to achieve it, especially when the stakes are high and the consequences really matter. It is about laying the groundwork for others' success, and then standing back and letting them shine. Patience, persistence and perspiration make an unbeatable combination for success. So let us do our best. And never forget that the difference between good and great is 5%."
     ]
    }
   ],
   "source": [
    "print(\"Decrypted message to group member one: \")\n",
    "myDecryptionMethod(3 , encrypted_list)"
   ]
  },
  {
   "cell_type": "code",
   "execution_count": 9,
   "metadata": {},
   "outputs": [
    {
     "name": "stdout",
     "output_type": "stream",
     "text": [
      "Encrypted message to group member two: \n",
      "Ik$$Hndh!vr$icyi!{ry!cv$b\"wibo#qbvh%!o|$ocpi!kv$Kcpit\"Zlzvh$bpg$J\"dq!rdvu\"rj!{rys\"wibo#mo\"JIPI7;70#Qz\"lruguitvv$jpfpvfh$ncwlfodxjev0!rushtdqnkqk-\"geuc#wdkhrdg/$tvdxjuwmdu/$btw0!cqh!oxwje1$Bu#e!jrfc{#M!gqnp{#tmc|moi#xig#kvkwes.#wmghtjpj0!cqh!fumomlrh\"jvfgq$ugd2!O|$ncmss\"lw!ihstrdxjco$jpissodxjqq$telioeh$bpg$dqptvvhv!edvuqjvbrk}/\"P}!g{tfewie\"jvbfxeukrr!kv$Egfindhv!43590#Qz\"jsbn#jpt#xikv$dndwt\"lw!vr$cgfsng#qpth$qtrjjeliov#mo\"jipuseukdp!fdxb\"drbn|wju/$dqopfewmpp/$bpg$wkvybnl~bvlso\"e}!vki!ohhjwp$ph#tzvkso\"svpiuenolrh0#M!jrtf\"ws!idmo\"wlf\"vojnow!phiegg$gqu$dqptbplit\"vydj#et\"QETC/$Dgqwvu#fvthev.#WQCFI.Z/$bpg$ujh$mkni/\"L$ujlrl\"|sv\"zmmn#eef#ksgdx!xdpvg#xp\"wlf\"wibo#{jvk$zqxv!unmmnv2!C#hsgdq!fritp*x!dhgpoh$sgdpjv|$ujusvik$ncjmd=#mu\"welgv$tyheu.#hfvhvnkqeukrr!cqh!jdve\"zssm1$Twfgfuv$ju#rp\"dgdkgiov1$Jv#mt\"kesf#{ptn0!rhvtgyiscqgf.#pfcurjpj0!uwye{lrh.#wbeumgkfi!cqh!orwu\"rj!cop-\"oswg#sg\"zlbv#}pw#esg#hpkqk!qu$mgdvokqk!vr$eq1$Xkwlpww$icuh!yrvl.#rpvkmoi#ksqzw!dxx!yhieu1$Twfgfuv$juq+u\"dpxc|w!cesvv#ksgdxogvw/\"Lx(u#ecqxx!errtkvxfpf}/\"Fsoulwugqx!jdve\"zssm#pfcgw!vr$twfgfuv2!Iuibvqitu#{jno$dqpi/\"Nifr#}pwu$ethenu#emkyi/\"Xreguwucqh!vr$bekmfxh$bp|xikqk!thuvkuit\"iejvk$bpg$cgomfh#mo\"|svtvimh/$wkvmpp/$icuh!yrvl.#hfvhvnkqeukrr-\"dre\"giekfeukrr/\"Uingpfft#emn#xikqkt\"dvf\"sstulfmg#jpt#xiqvi!yks!dhpjgyi/\"Ws!dh$b\"flbosmpp/$J\"wljpn$zqx$icyi!vr$tgh$ujh$ckj$qkfxvth2!Kw+t\"qsu\"dfpww$xkqrjpj$bpg$mqvmoi>$jv*w!cesvv#iwgu}!fd}!jdve\"zssm#eof#ecqxx!vkvjxlrh\"rr!c#gicopfpji/\"Lx(u#ecqxx!gpfscfmoi#xig#tbkq$ujdx!{ry(no$fzsiskhrdg#eu\"wlf\"hre\"rj!c#vbeh$bpg$oqw$cglrh\"djsclh/\"L$ujlrl\"siproi!vkmom#xpq#lbtg$bpg$hgw$bhuejf#sg\"d$dguxbkq$djdpmgqkf0#Emn#pjhh$egpeofv$tvuyhioi/\"Wlpuh$xjr$icyi!gyis{wljpj$hkyio\"ws!vkin\"eidqpi!nd~z.#wfnimtj/$bpg$jpvioulxjxh$uq#xig#vfco$wcoyfu#sg\"omgg1$Ujh$wgu}!uwvjxlrh\"dre\"kesf#{ptn$ujdx!yh$tq#gppvxbpwpz\"wvz\"ws!cysjf#mt\"wlf\"pekqu$cwlpekqk!dosdm#mo\"wlf\"sisurr!yh$bth$uqgez0"
     ]
    }
   ],
   "source": [
    "print(\"Encrypted message to group member two: \")\n",
    "myEncryptionMethod(4, my_text_message2)"
   ]
  },
  {
   "cell_type": "code",
   "execution_count": 10,
   "metadata": {},
   "outputs": [
    {
     "name": "stdout",
     "output_type": "stream",
     "text": [
      "Decrypted message to group member two: \n",
      "Hi! Glad to have you as a team mate! my name is James Whyte and I am part of your team in GEOG476. My interests include mathematics, programming, data science, statistics, art, and music. As a hobby I enjoy playing the guitar, sleeping, and drinking green tea. My major is geospatial information science and computer cartography. My expected graduation is December 2018. My goal for this class is to become more proficient in geospatial data analysis, collection, and visualization by the medium of python programming. I hope to gain the skills needed for companies such as NASA, Census bureau, SPACE-X, and the like. I think you will add great value to the team with your skills. A dream doesn't become reality through magic; it takes sweat, determination and hard work. Success is no accident. It is hard work, perseverance, learning, studying, sacrifice and most of all, love of what you are doing or learning to do. Without hard work, nothing grows but weeds. Success isn't always about greatness. It's about consistency. Consistent hard work leads to success. Greatness will come. Keep your dreams alive. Understand to achieve anything requires faith and belief in yourself, vision, hard work, determination, and dedication. Remember all things are possible for those who believe. To be a champion, I think you have to see the big picture. It's not about winning and losing; it's about every day hard work and about thriving on a challenge. It's about embracing the pain that you'll experience at the end of a race and not being afraid. I think people think too hard and get afraid of a certain challenge. All life demands struggle. Those who have everything given to them become lazy, selfish, and insensitive to the real values of life. The very striving and hard work that we so constantly try to avoid is the major building block in the person we are today."
     ]
    }
   ],
   "source": [
    "print(\"Decrypted message to group member two: \")\n",
    "myDecryptionMethod(4, encrypted_list)"
   ]
  },
  {
   "cell_type": "code",
   "execution_count": 11,
   "metadata": {},
   "outputs": [
    {
     "name": "stdout",
     "output_type": "stream",
     "text": [
      "Encrypted message to group member three: \n",
      "Hthiyjpjw%ujhvj\"\"p}%ocpi%ju#Nfngv$\\i{wi%bpg$N!cp$ubtw$tg\"|szs\"wifn\"lr%HGRK9881$Rz\"lryfthwyt\"lrhmwgi%ncwljncwmht.#twpiuernkqk1!fdxf!ufmjoeh0%tvdxntvlgx-\"dvy-\"dri!oxwnd0#Ex!c#ltcd|$N!gqntz\"spfzkqk%ujh$lvkwew-\"vpjfrlrl-\"dri!fumslkqk%hthis!vhe3!O|$rblrv%ju#kjpuseyjco$nohrvrbvlss!ufmjoeh$fof#gtnrxxjs\"fewuqjvfqj|2%N{#i}qgfxje\"jvfewdxnpp#mx!Fhgjndhv%324<3!O|$lpco$kpt#xmju#gqbuv$nt\"ws%cgfsrf\"pswf\"svtgkfmjov#ms!ihsxqcwmfm\"geyb\"drfm{vmx-\"fsqmgfxnpp/$fof#zntwdpn{cwmto\"e}%ujh$rfflyr!qi$uzvkss!ruslscpqnoi1$N!jrtj!vr$lbkq$yig#wpjnow%oghhje\"isw!erqubplix!uxgm!cv$SBUD0%Dgqwzt\"eywfcx0%TRDGJ.Z/$fof#xmf\"ompf0#M%ujlrp!{ry%xkop%bfg$lsgdx%wcoyj!vr$yig#xjbo#{nuj#}tvt#wpjnow3!Ykeyfxhv%zqx$lp\"lryp.#}tv\"ke{f\"ws%hq#ms!vkiwf\"ws%cg#xmf\"eixu0#Xmfth+x!pr$kptpyqbu1$Nu)v$fmn#egpww$ubuvmto\"dri!jrrjtv|$fof#lfsf#{tsm1$Nu\"pmliv#ptpm#kqborvtvu/$gvv#my!vdojt\"d$qpv#sk!jdvi!yrvp/\"Wlj!doixtkqk%xkwl%ujh$fsvv$nt\"wlfu\"|sz!edr%eq#my!hrvjwgu2%Jh#jtvt#xmjpjw%bth$kpnos|ff#1%icymsh\"d$lsgdx%bkp0%betynskqk%lpr{qffji1!jdvi!yrvp-\"dri!rhvxfxhvfoeh$2!vkis!cq}yikqk%dcq$gf\"dgmjgyii/\"D$isgdq%eqhws(v#fjdqpi%sgdpnu{#xmsqxkm!odknd=#my!vdojt\"v{jbv/$ifvhvrjpdxnpp#ese\"kewe\"zswl0#Xmf\"eexje#wpjnow%ph#pjbfhvx!cui%bnze~t\"wlj!udqj;\"ei%etlzjo\"e}%b\"gijqgu$uvtssxf.#fj!c#lzncq$gfkqk1!jdzj!c#tftulss!hrv%xjdx%zqx$ip.#ese\"lx,t\"dpxp\"dftvv#lfsf#{tsm#ese\"hxmjev2%Sgvtjdv#}tvt#tfsgqxx/\"Zlfu\"wljz\"wiqm\"|sz!kv$yswh2%Icuh%xquo1!fhhndcwmto\"dri!hdmyi\"zmqm\"jiy!{ry%bp|xmjpj2%Jodknocwmto\"zmqm\"gvnwg#mytgoj3![ry%dcq$lfv#eszvkmsh\"|sz!ydry-\"eyy!{ry%icyi%uq#lfwg#jfjvk$gfjlri!cop%zqxv%jfhex/\"Vxndm#xt!{ryw!ireqt\"dri!jdzj!cq$zof|msh\"ienuj1$Xfni1gfnlik!cqh%icuh%xquo%xkop%bnze~t\"hewo\"|sz!uxghfuv2%Icuh%xquo%xkwltvv#xfmgqx%ju#e%tjdqj-\"eyy!vdpjov#{nujryy!jdvi!yrvp!kv$f!vuelff|2"
     ]
    }
   ],
   "source": [
    "print(\"Encrypted message to group member three: \")\n",
    "myEncryptionMethod(5, my_text_message3)"
   ]
  },
  {
   "cell_type": "code",
   "execution_count": 12,
   "metadata": {},
   "outputs": [
    {
     "name": "stdout",
     "output_type": "stream",
     "text": [
      "Decrypted message to group member three: \n",
      "Greetings there! my name is James Whyte and I am part of your team in GEOG476. My interests include mathematics, programming, data science, statistics, art, and music. As a hobby I enjoy playing the guitar, sleeping, and drinking green tea. My major is geospatial information science and computer cartography. My expected graduation is December 2018. My goal for this class is to become more proficient in geospatial data analysis, collection, and visualization by the medium of python programming. I hope to gain the skills needed for companies such as NASA, Census bureau, SPACE-X, and the like. I think you will add great value to the team with your skills. Whatever you go into, you have to go in there to be the best. There's no formulas. It's all about passion and honesty and hard work. It might look glamorous, but it takes a lot of hard work. The blessing with the arts is that you can do it forever. If four things are followed - having a great aim, acquiring knowledge, hard work, and perseverance - then anything can be achieved. A dream doesn't become reality through magic; it takes sweat, determination and hard work. The basic skills of leaders are always the same: be driven by a deeper purpose, be a human being, have a passion for what you do, and it's also about hard work and ethics. Respect your parents. What they tell you is true. Hard work, dedication and faith will get you anything. Imagination will drive itself. You can get anything you want, but you have to have faith behind all your ideas. Stick to your goals and have an undying faith. Self-belief and hard work will always earn you success. Hard work without talent is a shame, but talent without hard work is a tragedy."
     ]
    }
   ],
   "source": [
    "print(\"Decrypted message to group member three: \")\n",
    "myDecryptionMethod(5, encrypted_list)"
   ]
  },
  {
   "cell_type": "markdown",
   "metadata": {},
   "source": [
    "##### encrypted message sent by my team-member Tyler Richman"
   ]
  },
  {
   "cell_type": "code",
   "execution_count": 14,
   "metadata": {},
   "outputs": [
    {
     "name": "stdout",
     "output_type": "stream",
     "text": [
      "Encrypted message that group member one sent me: \n",
      "N{#rfsl!kv$Ysft#Vnioncq$ftk!K#er&h!uhrnuy!Cwqtywigumh&hof#Shkhokf$Xipfpfi%,'Hgrkwgwikfeq&Pohrvrg{jqq$Xipfpfi%j|bn#qfpvs0#M%kqgfxjj'uq#kwgkvcwi%zoju#wuxpoi#esj'iqsi%zv!urss&wvtvyj&h!odwykyt\"gilxlf\"lr%MPT\"rv%Ktftjisi?!Odrfmlngqx3&Tz\"jsfr'gqu$ynpt\"fpfyz!kv$yu'hclr%g'cgwxjx'vpgiwy{bpgmsm'ph#T~zopp#twunscpqntn/\"L+r&zjosp~&oprlrl&{icw$t{y!iuszv'dcq$mksq\"hehn'pvkiw&vvv#{mkufxhv%vypdoiry'btlwj&vo\"dwxonoohryy5\n"
     ]
    }
   ],
   "source": [
    "print(\"Encrypted message that group member one sent me: \")\n",
    "print(group_member_one_message)"
   ]
  },
  {
   "cell_type": "markdown",
   "metadata": {},
   "source": [
    "##### decrypting the message by Tyler Richman"
   ]
  },
  {
   "cell_type": "code",
   "execution_count": 22,
   "metadata": {},
   "outputs": [
    {
     "name": "stdout",
     "output_type": "stream",
     "text": [
      "Decrypted message that group member one sent me: \n",
      "My name is Tyler Richman and I am a senior Atmospheric and Oceanic Science & Geographical Information Science dual major. I expected to graduate this spring and hope to soon pursue a masters degree in GIS or Emergenc8 Management. My goal for this class is to gain a better understanding of Python programming. I'm simply hoping that our group can help each other out whenever problems arise on assignments."
     ]
    }
   ],
   "source": [
    "print(\"Decrypted message that group member one sent me: \")\n",
    "myDecryptionMethod(7, group_member_one_message)"
   ]
  },
  {
   "cell_type": "markdown",
   "metadata": {},
   "source": [
    "##### printing the encrypted message by my team-member Troy Walker"
   ]
  },
  {
   "cell_type": "code",
   "execution_count": 18,
   "metadata": {},
   "outputs": [
    {
     "name": "stdout",
     "output_type": "stream",
     "text": [
      "Encrypted message that group member two sent me: \n",
      "N{\\#ktbnv\\$kpt\\#xflkqk%ujlw%dndwx!kv\\$yp\"lqusqyi%n{\\#yseguwybpgmsh\"dri!unmqmu\\#ms!R|xmpp1\\$Uzvkss!kv\\$tog\\#sk!vki%nqvx%qqsyqbt\\#whsksxnoi\\#pfoixelfu\\#ese\"L\\$ifhlrnugo}%ujlrp!kw\\$|jno\\$gf\"d\\$lpqg\\$feflxnpp\\#xt!o|\\$wfuxqj/\"L\\$qfcurje\"s}yiqq\\$gfhrvj!dxx%ppo}%bv\\#xmf\"os|ft2fftkf\\$qfxhp3!K\\#ltqg\\#xmbv\\#xmju\\#gqbuv\\$kvtwljsu\\#q\\~!mqs|mggkj!kq\\$ztkqk%Q{wlto\"dri!cv\\$f!R|xmpp\\#twpiuerngu2\n"
     ]
    }
   ],
   "source": [
    "print(\"Encrypted message that group member two sent me: \")\n",
    "print(group_member_two_message)"
   ]
  },
  {
   "cell_type": "markdown",
   "metadata": {},
   "source": [
    "##### Decrypting my team-member Troy walker's message"
   ]
  },
  {
   "cell_type": "code",
   "execution_count": 23,
   "metadata": {},
   "outputs": [
    {
     "name": "stdout",
     "output_type": "stream",
     "text": [
      "Decrypted message that group member two sent me: \n",
      "My name is Troy Walker and I am a senior computer science major and a GIS minor. I expect to graduate this spring and hope to soon work in the front-end web development industry and one day be a complete full-stack developer. My goal for this class is to become a better python programmer and I hope think this group can help by all working together and sharing our knowledge with each other."
     ]
    }
   ],
   "source": [
    "print(\"Decrypted message that group member two sent me: \")\n",
    "myDecryptionMethod(2, group_member_two_message)"
   ]
  },
  {
   "cell_type": "code",
   "execution_count": null,
   "metadata": {},
   "outputs": [],
   "source": []
  }
 ],
 "metadata": {
  "kernelspec": {
   "display_name": "Python 3",
   "language": "python",
   "name": "python3"
  },
  "language_info": {
   "codemirror_mode": {
    "name": "ipython",
    "version": 3
   },
   "file_extension": ".py",
   "mimetype": "text/x-python",
   "name": "python",
   "nbconvert_exporter": "python",
   "pygments_lexer": "ipython3",
   "version": "3.6.5"
  }
 },
 "nbformat": 4,
 "nbformat_minor": 2
}
